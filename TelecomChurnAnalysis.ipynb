{
  "nbformat": 4,
  "nbformat_minor": 0,
  "metadata": {
    "colab": {
      "provenance": []
    },
    "kernelspec": {
      "name": "python3",
      "display_name": "Python 3"
    },
    "language_info": {
      "name": "python"
    }
  },
  "cells": [
    {
      "cell_type": "markdown",
      "source": [
        "# **Project Name**    -  Telecom churn Analysis\n"
      ],
      "metadata": {
        "id": "jIjxTIL2HF9h"
      }
    },
    {
      "cell_type": "markdown",
      "source": [
        "[link text](https://)#### **Project Type**    - EDA\n",
        "##### **Contribution**    - Individual\n",
        "##### **Team Member 1 -** Md Ismail Quraishi"
      ],
      "metadata": {
        "id": "bO-hKK0rHLpf"
      }
    },
    {
      "cell_type": "markdown",
      "source": [
        "# **Project Summary -**"
      ],
      "metadata": {
        "id": "nETD39sRHQ43"
      }
    },
    {
      "cell_type": "markdown",
      "source": [
        "Orange SA is a multinational French telecommunication corporation. The dataset consist of customers activity along a churn label. My task is to explore and analyse the dataset and get understanding of the dataset. First of all I will import some important libraries which will help me to do computational task and visualize the data. Then reading the data and try to get first look of the dataset. Then I will check shape of the data like what is the number of rows and columns. After that checking the info of the data to see data type and counts of non null values for each feature. Then I will check if there is any duplicate row or not. After the I have to check null and missing values for each column then I will get data understanding like what are the names of columns and description of each column. After that I will check number of unique values for each column and also what the unique values are. Further I will make some questions and try to give the answer of the questions. Then I will do data wrangling like cleaning and merging and dropping the columns. Next I will do uni-variate visualization like distribution of the column of the data after that I will perform bi-variate visualization like relationship between two column at the end I will do multi-variate visualization like correlations between the columns. After visualization I will have to give some suggestion to the client and finally I will add conclusion of the project."
      ],
      "metadata": {
        "id": "poYv150LHUbC"
      }
    },
    {
      "cell_type": "markdown",
      "source": [
        "# **GitHub Link -**"
      ],
      "metadata": {
        "id": "y8P8MnQlHa6j"
      }
    },
    {
      "cell_type": "markdown",
      "source": [
        "https://github.com/mdismailquraishicse/TelecomChurnAnalysis"
      ],
      "metadata": {
        "id": "UCciofueHe1u"
      }
    },
    {
      "cell_type": "markdown",
      "source": [
        "# **Problem Statement**\n"
      ],
      "metadata": {
        "id": "gBBSxhl5HjSm"
      }
    },
    {
      "cell_type": "markdown",
      "source": [
        "**Orange SA is a multinational French telecommunication corporation. The dataset consist of customers activity along churn lebel. My task is to read the data and get key understanding of the data and each feature and also visualization of the data and give suggestions to the client according the the data report.**"
      ],
      "metadata": {
        "id": "qRnejj2cHpyH"
      }
    },
    {
      "cell_type": "markdown",
      "source": [
        "#### **Define Your Business Objective?**"
      ],
      "metadata": {
        "id": "j2u_QRYsHteH"
      }
    },
    {
      "cell_type": "markdown",
      "source": [
        "My business objectives are that using the dataset get maximum information about the data and by the help of that data give suggestion to the clients how can the clients get better result and inhance his business."
      ],
      "metadata": {
        "id": "jDBvq2fTHyUD"
      }
    },
    {
      "cell_type": "markdown",
      "source": [
        "# **General Guidelines** : -  "
      ],
      "metadata": {
        "id": "_Ee1EgLLH3D_"
      }
    },
    {
      "cell_type": "markdown",
      "source": [
        "1.   Well-structured, formatted, and commented code is required. \n",
        "2.   Exception Handling, Production Grade Code & Deployment Ready Code will be a plus. Those students will be awarded some additional credits. \n",
        "     \n",
        "     The additional credits will have advantages over other students during Star Student selection.\n",
        "       \n",
        "             [ Note: - Deployment Ready Code is defined as, the whole .ipynb notebook should be executable in one go\n",
        "                       without a single error logged. ]\n",
        "\n",
        "3.   Each and every logic should have proper comments.\n",
        "4. You may add as many number of charts you want. Make Sure for each and every chart the following format should be answered.\n",
        "        \n",
        "\n",
        "```\n",
        "# Chart visualization code\n",
        "```\n",
        "            \n",
        "\n",
        "*   Why did you pick the specific chart?\n",
        "*   What is/are the insight(s) found from the chart?\n",
        "* Will the gained insights help creating a positive business impact? \n",
        "Are there any insights that lead to negative growth? Justify with specific reason.\n",
        "\n",
        "5. You have to create at least 20 logical & meaningful charts having important insights.\n",
        "\n",
        "\n",
        "[ Hints : - Do the Vizualization in  a structured way while following \"UBM\" Rule. \n",
        "\n",
        "U - Univariate Analysis,\n",
        "\n",
        "B - Bivariate Analysis (Numerical - Categorical, Numerical - Numerical, Categorical - Categorical)\n",
        "\n",
        "M - Multivariate Analysis\n",
        " ]\n",
        "\n",
        "\n",
        "\n"
      ],
      "metadata": {
        "id": "25AfZlm_H6Qy"
      }
    },
    {
      "cell_type": "markdown",
      "source": [
        "# ***Let's Begin !***"
      ],
      "metadata": {
        "id": "eKyyownuH-Z8"
      }
    },
    {
      "cell_type": "markdown",
      "source": [
        "## ***1. Know Your Data***"
      ],
      "metadata": {
        "id": "E9kDEHfTICaG"
      }
    },
    {
      "cell_type": "markdown",
      "source": [
        "### Import Libraries"
      ],
      "metadata": {
        "id": "WcfAYizLIIIT"
      }
    },
    {
      "cell_type": "code",
      "source": [
        "# Import Libraries\n",
        "import numpy as np\n",
        "import pandas as pd\n",
        "import seaborn as sns\n",
        "import matplotlib.pyplot as plt\n",
        "import warnings\n",
        "warnings.filterwarnings('ignore')"
      ],
      "metadata": {
        "id": "ONy5cZ5UHRgl"
      },
      "execution_count": 1,
      "outputs": []
    },
    {
      "cell_type": "markdown",
      "source": [
        "### Dataset Loading"
      ],
      "metadata": {
        "id": "Rvt8Nw4kIUed"
      }
    },
    {
      "cell_type": "code",
      "source": [
        "# Load Dataset\n",
        "# path = 'E:/Data Science/amlabetter/Capstone Projects/EDA/telecom churn analysis/Telecom Churn.csv'\n",
        "\n",
        "path ='/content/drive/MyDrive/Almabetter/Cohort Nilgiri/Capstone Project/EDA/TelecomChurnAnalysis/Telecom Churn.csv'\n",
        "telecom_df = pd.read_csv(path)"
      ],
      "metadata": {
        "id": "5gGX2LWNIQFJ"
      },
      "execution_count": 2,
      "outputs": []
    },
    {
      "cell_type": "markdown",
      "source": [
        "### Dataset First View"
      ],
      "metadata": {
        "id": "9uNvht7jI79g"
      }
    },
    {
      "cell_type": "code",
      "source": [
        "# Dataset First Look\n",
        "telecom_df.head()"
      ],
      "metadata": {
        "colab": {
          "base_uri": "https://localhost:8080/",
          "height": 285
        },
        "id": "cPSGwWMMI0IS",
        "outputId": "a553e976-9911-4d6f-e2a0-a4875fafcbc6"
      },
      "execution_count": 3,
      "outputs": [
        {
          "output_type": "execute_result",
          "data": {
            "text/plain": [
              "  State  Account length  Area code International plan Voice mail plan  \\\n",
              "0    KS             128        415                 No             Yes   \n",
              "1    OH             107        415                 No             Yes   \n",
              "2    NJ             137        415                 No              No   \n",
              "3    OH              84        408                Yes              No   \n",
              "4    OK              75        415                Yes              No   \n",
              "\n",
              "   Number vmail messages  Total day minutes  Total day calls  \\\n",
              "0                     25              265.1              110   \n",
              "1                     26              161.6              123   \n",
              "2                      0              243.4              114   \n",
              "3                      0              299.4               71   \n",
              "4                      0              166.7              113   \n",
              "\n",
              "   Total day charge  Total eve minutes  Total eve calls  Total eve charge  \\\n",
              "0             45.07              197.4               99             16.78   \n",
              "1             27.47              195.5              103             16.62   \n",
              "2             41.38              121.2              110             10.30   \n",
              "3             50.90               61.9               88              5.26   \n",
              "4             28.34              148.3              122             12.61   \n",
              "\n",
              "   Total night minutes  Total night calls  Total night charge  \\\n",
              "0                244.7                 91               11.01   \n",
              "1                254.4                103               11.45   \n",
              "2                162.6                104                7.32   \n",
              "3                196.9                 89                8.86   \n",
              "4                186.9                121                8.41   \n",
              "\n",
              "   Total intl minutes  Total intl calls  Total intl charge  \\\n",
              "0                10.0                 3               2.70   \n",
              "1                13.7                 3               3.70   \n",
              "2                12.2                 5               3.29   \n",
              "3                 6.6                 7               1.78   \n",
              "4                10.1                 3               2.73   \n",
              "\n",
              "   Customer service calls  Churn  \n",
              "0                       1  False  \n",
              "1                       1  False  \n",
              "2                       0  False  \n",
              "3                       2  False  \n",
              "4                       3  False  "
            ],
            "text/html": [
              "\n",
              "  <div id=\"df-7cfb9d29-4fcc-4b85-a7fe-83cdfb5b8085\">\n",
              "    <div class=\"colab-df-container\">\n",
              "      <div>\n",
              "<style scoped>\n",
              "    .dataframe tbody tr th:only-of-type {\n",
              "        vertical-align: middle;\n",
              "    }\n",
              "\n",
              "    .dataframe tbody tr th {\n",
              "        vertical-align: top;\n",
              "    }\n",
              "\n",
              "    .dataframe thead th {\n",
              "        text-align: right;\n",
              "    }\n",
              "</style>\n",
              "<table border=\"1\" class=\"dataframe\">\n",
              "  <thead>\n",
              "    <tr style=\"text-align: right;\">\n",
              "      <th></th>\n",
              "      <th>State</th>\n",
              "      <th>Account length</th>\n",
              "      <th>Area code</th>\n",
              "      <th>International plan</th>\n",
              "      <th>Voice mail plan</th>\n",
              "      <th>Number vmail messages</th>\n",
              "      <th>Total day minutes</th>\n",
              "      <th>Total day calls</th>\n",
              "      <th>Total day charge</th>\n",
              "      <th>Total eve minutes</th>\n",
              "      <th>Total eve calls</th>\n",
              "      <th>Total eve charge</th>\n",
              "      <th>Total night minutes</th>\n",
              "      <th>Total night calls</th>\n",
              "      <th>Total night charge</th>\n",
              "      <th>Total intl minutes</th>\n",
              "      <th>Total intl calls</th>\n",
              "      <th>Total intl charge</th>\n",
              "      <th>Customer service calls</th>\n",
              "      <th>Churn</th>\n",
              "    </tr>\n",
              "  </thead>\n",
              "  <tbody>\n",
              "    <tr>\n",
              "      <th>0</th>\n",
              "      <td>KS</td>\n",
              "      <td>128</td>\n",
              "      <td>415</td>\n",
              "      <td>No</td>\n",
              "      <td>Yes</td>\n",
              "      <td>25</td>\n",
              "      <td>265.1</td>\n",
              "      <td>110</td>\n",
              "      <td>45.07</td>\n",
              "      <td>197.4</td>\n",
              "      <td>99</td>\n",
              "      <td>16.78</td>\n",
              "      <td>244.7</td>\n",
              "      <td>91</td>\n",
              "      <td>11.01</td>\n",
              "      <td>10.0</td>\n",
              "      <td>3</td>\n",
              "      <td>2.70</td>\n",
              "      <td>1</td>\n",
              "      <td>False</td>\n",
              "    </tr>\n",
              "    <tr>\n",
              "      <th>1</th>\n",
              "      <td>OH</td>\n",
              "      <td>107</td>\n",
              "      <td>415</td>\n",
              "      <td>No</td>\n",
              "      <td>Yes</td>\n",
              "      <td>26</td>\n",
              "      <td>161.6</td>\n",
              "      <td>123</td>\n",
              "      <td>27.47</td>\n",
              "      <td>195.5</td>\n",
              "      <td>103</td>\n",
              "      <td>16.62</td>\n",
              "      <td>254.4</td>\n",
              "      <td>103</td>\n",
              "      <td>11.45</td>\n",
              "      <td>13.7</td>\n",
              "      <td>3</td>\n",
              "      <td>3.70</td>\n",
              "      <td>1</td>\n",
              "      <td>False</td>\n",
              "    </tr>\n",
              "    <tr>\n",
              "      <th>2</th>\n",
              "      <td>NJ</td>\n",
              "      <td>137</td>\n",
              "      <td>415</td>\n",
              "      <td>No</td>\n",
              "      <td>No</td>\n",
              "      <td>0</td>\n",
              "      <td>243.4</td>\n",
              "      <td>114</td>\n",
              "      <td>41.38</td>\n",
              "      <td>121.2</td>\n",
              "      <td>110</td>\n",
              "      <td>10.30</td>\n",
              "      <td>162.6</td>\n",
              "      <td>104</td>\n",
              "      <td>7.32</td>\n",
              "      <td>12.2</td>\n",
              "      <td>5</td>\n",
              "      <td>3.29</td>\n",
              "      <td>0</td>\n",
              "      <td>False</td>\n",
              "    </tr>\n",
              "    <tr>\n",
              "      <th>3</th>\n",
              "      <td>OH</td>\n",
              "      <td>84</td>\n",
              "      <td>408</td>\n",
              "      <td>Yes</td>\n",
              "      <td>No</td>\n",
              "      <td>0</td>\n",
              "      <td>299.4</td>\n",
              "      <td>71</td>\n",
              "      <td>50.90</td>\n",
              "      <td>61.9</td>\n",
              "      <td>88</td>\n",
              "      <td>5.26</td>\n",
              "      <td>196.9</td>\n",
              "      <td>89</td>\n",
              "      <td>8.86</td>\n",
              "      <td>6.6</td>\n",
              "      <td>7</td>\n",
              "      <td>1.78</td>\n",
              "      <td>2</td>\n",
              "      <td>False</td>\n",
              "    </tr>\n",
              "    <tr>\n",
              "      <th>4</th>\n",
              "      <td>OK</td>\n",
              "      <td>75</td>\n",
              "      <td>415</td>\n",
              "      <td>Yes</td>\n",
              "      <td>No</td>\n",
              "      <td>0</td>\n",
              "      <td>166.7</td>\n",
              "      <td>113</td>\n",
              "      <td>28.34</td>\n",
              "      <td>148.3</td>\n",
              "      <td>122</td>\n",
              "      <td>12.61</td>\n",
              "      <td>186.9</td>\n",
              "      <td>121</td>\n",
              "      <td>8.41</td>\n",
              "      <td>10.1</td>\n",
              "      <td>3</td>\n",
              "      <td>2.73</td>\n",
              "      <td>3</td>\n",
              "      <td>False</td>\n",
              "    </tr>\n",
              "  </tbody>\n",
              "</table>\n",
              "</div>\n",
              "      <button class=\"colab-df-convert\" onclick=\"convertToInteractive('df-7cfb9d29-4fcc-4b85-a7fe-83cdfb5b8085')\"\n",
              "              title=\"Convert this dataframe to an interactive table.\"\n",
              "              style=\"display:none;\">\n",
              "        \n",
              "  <svg xmlns=\"http://www.w3.org/2000/svg\" height=\"24px\"viewBox=\"0 0 24 24\"\n",
              "       width=\"24px\">\n",
              "    <path d=\"M0 0h24v24H0V0z\" fill=\"none\"/>\n",
              "    <path d=\"M18.56 5.44l.94 2.06.94-2.06 2.06-.94-2.06-.94-.94-2.06-.94 2.06-2.06.94zm-11 1L8.5 8.5l.94-2.06 2.06-.94-2.06-.94L8.5 2.5l-.94 2.06-2.06.94zm10 10l.94 2.06.94-2.06 2.06-.94-2.06-.94-.94-2.06-.94 2.06-2.06.94z\"/><path d=\"M17.41 7.96l-1.37-1.37c-.4-.4-.92-.59-1.43-.59-.52 0-1.04.2-1.43.59L10.3 9.45l-7.72 7.72c-.78.78-.78 2.05 0 2.83L4 21.41c.39.39.9.59 1.41.59.51 0 1.02-.2 1.41-.59l7.78-7.78 2.81-2.81c.8-.78.8-2.07 0-2.86zM5.41 20L4 18.59l7.72-7.72 1.47 1.35L5.41 20z\"/>\n",
              "  </svg>\n",
              "      </button>\n",
              "      \n",
              "  <style>\n",
              "    .colab-df-container {\n",
              "      display:flex;\n",
              "      flex-wrap:wrap;\n",
              "      gap: 12px;\n",
              "    }\n",
              "\n",
              "    .colab-df-convert {\n",
              "      background-color: #E8F0FE;\n",
              "      border: none;\n",
              "      border-radius: 50%;\n",
              "      cursor: pointer;\n",
              "      display: none;\n",
              "      fill: #1967D2;\n",
              "      height: 32px;\n",
              "      padding: 0 0 0 0;\n",
              "      width: 32px;\n",
              "    }\n",
              "\n",
              "    .colab-df-convert:hover {\n",
              "      background-color: #E2EBFA;\n",
              "      box-shadow: 0px 1px 2px rgba(60, 64, 67, 0.3), 0px 1px 3px 1px rgba(60, 64, 67, 0.15);\n",
              "      fill: #174EA6;\n",
              "    }\n",
              "\n",
              "    [theme=dark] .colab-df-convert {\n",
              "      background-color: #3B4455;\n",
              "      fill: #D2E3FC;\n",
              "    }\n",
              "\n",
              "    [theme=dark] .colab-df-convert:hover {\n",
              "      background-color: #434B5C;\n",
              "      box-shadow: 0px 1px 3px 1px rgba(0, 0, 0, 0.15);\n",
              "      filter: drop-shadow(0px 1px 2px rgba(0, 0, 0, 0.3));\n",
              "      fill: #FFFFFF;\n",
              "    }\n",
              "  </style>\n",
              "\n",
              "      <script>\n",
              "        const buttonEl =\n",
              "          document.querySelector('#df-7cfb9d29-4fcc-4b85-a7fe-83cdfb5b8085 button.colab-df-convert');\n",
              "        buttonEl.style.display =\n",
              "          google.colab.kernel.accessAllowed ? 'block' : 'none';\n",
              "\n",
              "        async function convertToInteractive(key) {\n",
              "          const element = document.querySelector('#df-7cfb9d29-4fcc-4b85-a7fe-83cdfb5b8085');\n",
              "          const dataTable =\n",
              "            await google.colab.kernel.invokeFunction('convertToInteractive',\n",
              "                                                     [key], {});\n",
              "          if (!dataTable) return;\n",
              "\n",
              "          const docLinkHtml = 'Like what you see? Visit the ' +\n",
              "            '<a target=\"_blank\" href=https://colab.research.google.com/notebooks/data_table.ipynb>data table notebook</a>'\n",
              "            + ' to learn more about interactive tables.';\n",
              "          element.innerHTML = '';\n",
              "          dataTable['output_type'] = 'display_data';\n",
              "          await google.colab.output.renderOutput(dataTable, element);\n",
              "          const docLink = document.createElement('div');\n",
              "          docLink.innerHTML = docLinkHtml;\n",
              "          element.appendChild(docLink);\n",
              "        }\n",
              "      </script>\n",
              "    </div>\n",
              "  </div>\n",
              "  "
            ]
          },
          "metadata": {},
          "execution_count": 3
        }
      ]
    },
    {
      "cell_type": "markdown",
      "source": [
        "### Dataset Rows & Columns count"
      ],
      "metadata": {
        "id": "s52yXkT8Jn7S"
      }
    },
    {
      "cell_type": "code",
      "source": [
        "# Dataset Rows & Columns count\n",
        "telecom_df.shape"
      ],
      "metadata": {
        "colab": {
          "base_uri": "https://localhost:8080/"
        },
        "id": "bMs2DPYoI_9m",
        "outputId": "442a0067-6159-4513-eb6b-fff758408c5e"
      },
      "execution_count": 4,
      "outputs": [
        {
          "output_type": "execute_result",
          "data": {
            "text/plain": [
              "(3333, 20)"
            ]
          },
          "metadata": {},
          "execution_count": 4
        }
      ]
    },
    {
      "cell_type": "markdown",
      "source": [
        "### Dataset Information"
      ],
      "metadata": {
        "id": "lhzdYrSkJvYY"
      }
    },
    {
      "cell_type": "code",
      "source": [
        "# Dataset Info\n",
        "telecom_df.info()"
      ],
      "metadata": {
        "colab": {
          "base_uri": "https://localhost:8080/"
        },
        "id": "WqZ25sz2JrkM",
        "outputId": "aa3d3222-f6c2-4f5f-deae-96c24901eacf"
      },
      "execution_count": 5,
      "outputs": [
        {
          "output_type": "stream",
          "name": "stdout",
          "text": [
            "<class 'pandas.core.frame.DataFrame'>\n",
            "RangeIndex: 3333 entries, 0 to 3332\n",
            "Data columns (total 20 columns):\n",
            " #   Column                  Non-Null Count  Dtype  \n",
            "---  ------                  --------------  -----  \n",
            " 0   State                   3333 non-null   object \n",
            " 1   Account length          3333 non-null   int64  \n",
            " 2   Area code               3333 non-null   int64  \n",
            " 3   International plan      3333 non-null   object \n",
            " 4   Voice mail plan         3333 non-null   object \n",
            " 5   Number vmail messages   3333 non-null   int64  \n",
            " 6   Total day minutes       3333 non-null   float64\n",
            " 7   Total day calls         3333 non-null   int64  \n",
            " 8   Total day charge        3333 non-null   float64\n",
            " 9   Total eve minutes       3333 non-null   float64\n",
            " 10  Total eve calls         3333 non-null   int64  \n",
            " 11  Total eve charge        3333 non-null   float64\n",
            " 12  Total night minutes     3333 non-null   float64\n",
            " 13  Total night calls       3333 non-null   int64  \n",
            " 14  Total night charge      3333 non-null   float64\n",
            " 15  Total intl minutes      3333 non-null   float64\n",
            " 16  Total intl calls        3333 non-null   int64  \n",
            " 17  Total intl charge       3333 non-null   float64\n",
            " 18  Customer service calls  3333 non-null   int64  \n",
            " 19  Churn                   3333 non-null   bool   \n",
            "dtypes: bool(1), float64(8), int64(8), object(3)\n",
            "memory usage: 498.1+ KB\n"
          ]
        }
      ]
    },
    {
      "cell_type": "markdown",
      "source": [
        "#### Duplicate Values"
      ],
      "metadata": {
        "id": "f7yRPthBJ2mu"
      }
    },
    {
      "cell_type": "code",
      "source": [
        "# Dataset Duplicate Value Count\n",
        "telecom_df.duplicated().sum()"
      ],
      "metadata": {
        "colab": {
          "base_uri": "https://localhost:8080/"
        },
        "id": "pVhQb1i1JyMZ",
        "outputId": "d7235ab3-98ad-45d6-8ce2-4c94130243d1"
      },
      "execution_count": 6,
      "outputs": [
        {
          "output_type": "execute_result",
          "data": {
            "text/plain": [
              "0"
            ]
          },
          "metadata": {},
          "execution_count": 6
        }
      ]
    },
    {
      "cell_type": "markdown",
      "source": [
        "#### Missing Values/Null Values"
      ],
      "metadata": {
        "id": "cWyhKV1bJ_6J"
      }
    },
    {
      "cell_type": "code",
      "source": [
        "# Missing Values/Null Values Count\n",
        "telecom_df.isna().sum()"
      ],
      "metadata": {
        "colab": {
          "base_uri": "https://localhost:8080/"
        },
        "id": "OhObX0TMJ7oi",
        "outputId": "6c434a54-6584-41a1-dc13-f2817c46959b"
      },
      "execution_count": 7,
      "outputs": [
        {
          "output_type": "execute_result",
          "data": {
            "text/plain": [
              "State                     0\n",
              "Account length            0\n",
              "Area code                 0\n",
              "International plan        0\n",
              "Voice mail plan           0\n",
              "Number vmail messages     0\n",
              "Total day minutes         0\n",
              "Total day calls           0\n",
              "Total day charge          0\n",
              "Total eve minutes         0\n",
              "Total eve calls           0\n",
              "Total eve charge          0\n",
              "Total night minutes       0\n",
              "Total night calls         0\n",
              "Total night charge        0\n",
              "Total intl minutes        0\n",
              "Total intl calls          0\n",
              "Total intl charge         0\n",
              "Customer service calls    0\n",
              "Churn                     0\n",
              "dtype: int64"
            ]
          },
          "metadata": {},
          "execution_count": 7
        }
      ]
    },
    {
      "cell_type": "code",
      "source": [
        "# Visualizing the missing values\n",
        "plt.rcParams['figure.figsize'] = (10,5)\n",
        "telecom_df.isna().sum().plot.bar()\n",
        "plt.show()"
      ],
      "metadata": {
        "colab": {
          "base_uri": "https://localhost:8080/",
          "height": 433
        },
        "id": "p_kqgkmCKEot",
        "outputId": "3730ee68-66d5-44aa-d39f-3001126ec548"
      },
      "execution_count": 8,
      "outputs": [
        {
          "output_type": "display_data",
          "data": {
            "text/plain": [
              "<Figure size 720x360 with 1 Axes>"
            ],
            "image/png": "[encoded data removed]"
          },
          "metadata": {
            "needs_background": "light"
          }
        }
      ]
    },
    {
      "cell_type": "markdown",
      "source": [
        "### What did you know about your dataset?"
      ],
      "metadata": {
        "id": "kFW7QMUoKMIf"
      }
    },
    {
      "cell_type": "markdown",
      "source": [
        "The dataset has 3333 rows and 20 columns without any null or missing value."
      ],
      "metadata": {
        "id": "Rn_dJUX_KL3q"
      }
    },
    {
      "cell_type": "markdown",
      "source": [
        "## ***2. Understanding Your Variables***"
      ],
      "metadata": {
        "id": "ehgAAXfkKS9m"
      }
    },
    {
      "cell_type": "code",
      "source": [
        "# Dataset Columns\n",
        "telecom_df.columns"
      ],
      "metadata": {
        "colab": {
          "base_uri": "https://localhost:8080/"
        },
        "id": "Kvqf7ZtbKHhL",
        "outputId": "c8bc1f05-1d60-4984-cab2-d87e1ccf255b"
      },
      "execution_count": 9,
      "outputs": [
        {
          "output_type": "execute_result",
          "data": {
            "text/plain": [
              "Index(['State', 'Account length', 'Area code', 'International plan',\n",
              "       'Voice mail plan', 'Number vmail messages', 'Total day minutes',\n",
              "       'Total day calls', 'Total day charge', 'Total eve minutes',\n",
              "       'Total eve calls', 'Total eve charge', 'Total night minutes',\n",
              "       'Total night calls', 'Total night charge', 'Total intl minutes',\n",
              "       'Total intl calls', 'Total intl charge', 'Customer service calls',\n",
              "       'Churn'],\n",
              "      dtype='object')"
            ]
          },
          "metadata": {},
          "execution_count": 9
        }
      ]
    },
    {
      "cell_type": "code",
      "source": [
        "# Dataset Describe\n",
        "telecom_df.describe()"
      ],
      "metadata": {
        "colab": {
          "base_uri": "https://localhost:8080/",
          "height": 379
        },
        "id": "PzWPpMMdKYnB",
        "outputId": "b3c00547-333c-4425-9b77-a51b17c412ca"
      },
      "execution_count": 10,
      "outputs": [
        {
          "output_type": "execute_result",
          "data": {
            "text/plain": [
              "       Account length    Area code  Number vmail messages  Total day minutes  \\\n",
              "count     3333.000000  3333.000000            3333.000000        3333.000000   \n",
              "mean       101.064806   437.182418               8.099010         179.775098   \n",
              "std         39.822106    42.371290              13.688365          54.467389   \n",
              "min          1.000000   408.000000               0.000000           0.000000   \n",
              "25%         74.000000   408.000000               0.000000         143.700000   \n",
              "50%        101.000000   415.000000               0.000000         179.400000   \n",
              "75%        127.000000   510.000000              20.000000         216.400000   \n",
              "max        243.000000   510.000000              51.000000         350.800000   \n",
              "\n",
              "       Total day calls  Total day charge  Total eve minutes  Total eve calls  \\\n",
              "count      3333.000000       3333.000000        3333.000000      3333.000000   \n",
              "mean        100.435644         30.562307         200.980348       100.114311   \n",
              "std          20.069084          9.259435          50.713844        19.922625   \n",
              "min           0.000000          0.000000           0.000000         0.000000   \n",
              "25%          87.000000         24.430000         166.600000        87.000000   \n",
              "50%         101.000000         30.500000         201.400000       100.000000   \n",
              "75%         114.000000         36.790000         235.300000       114.000000   \n",
              "max         165.000000         59.640000         363.700000       170.000000   \n",
              "\n",
              "       Total eve charge  Total night minutes  Total night calls  \\\n",
              "count       3333.000000          3333.000000        3333.000000   \n",
              "mean          17.083540           200.872037         100.107711   \n",
              "std            4.310668            50.573847          19.568609   \n",
              "min            0.000000            23.200000          33.000000   \n",
              "25%           14.160000           167.000000          87.000000   \n",
              "50%           17.120000           201.200000         100.000000   \n",
              "75%           20.000000           235.300000         113.000000   \n",
              "max           30.910000           395.000000         175.000000   \n",
              "\n",
              "       Total night charge  Total intl minutes  Total intl calls  \\\n",
              "count         3333.000000         3333.000000       3333.000000   \n",
              "mean             9.039325           10.237294          4.479448   \n",
              "std              2.275873            2.791840          2.461214   \n",
              "min              1.040000            0.000000          0.000000   \n",
              "25%              7.520000            8.500000          3.000000   \n",
              "50%              9.050000           10.300000          4.000000   \n",
              "75%             10.590000           12.100000          6.000000   \n",
              "max             17.770000           20.000000         20.000000   \n",
              "\n",
              "       Total intl charge  Customer service calls  \n",
              "count        3333.000000             3333.000000  \n",
              "mean            2.764581                1.562856  \n",
              "std             0.753773                1.315491  \n",
              "min             0.000000                0.000000  \n",
              "25%             2.300000                1.000000  \n",
              "50%             2.780000                1.000000  \n",
              "75%             3.270000                2.000000  \n",
              "max             5.400000                9.000000  "
            ],
            "text/html": [
              "\n",
              "  <div id=\"df-07447e17-cf41-4987-ab22-6519919abc1f\">\n",
              "    <div class=\"colab-df-container\">\n",
              "      <div>\n",
              "<style scoped>\n",
              "    .dataframe tbody tr th:only-of-type {\n",
              "        vertical-align: middle;\n",
              "    }\n",
              "\n",
              "    .dataframe tbody tr th {\n",
              "        vertical-align: top;\n",
              "    }\n",
              "\n",
              "    .dataframe thead th {\n",
              "        text-align: right;\n",
              "    }\n",
              "</style>\n",
              "<table border=\"1\" class=\"dataframe\">\n",
              "  <thead>\n",
              "    <tr style=\"text-align: right;\">\n",
              "      <th></th>\n",
              "      <th>Account length</th>\n",
              "      <th>Area code</th>\n",
              "      <th>Number vmail messages</th>\n",
              "      <th>Total day minutes</th>\n",
              "      <th>Total day calls</th>\n",
              "      <th>Total day charge</th>\n",
              "      <th>Total eve minutes</th>\n",
              "      <th>Total eve calls</th>\n",
              "      <th>Total eve charge</th>\n",
              "      <th>Total night minutes</th>\n",
              "      <th>Total night calls</th>\n",
              "      <th>Total night charge</th>\n",
              "      <th>Total intl minutes</th>\n",
              "      <th>Total intl calls</th>\n",
              "      <th>Total intl charge</th>\n",
              "      <th>Customer service calls</th>\n",
              "    </tr>\n",
              "  </thead>\n",
              "  <tbody>\n",
              "    <tr>\n",
              "      <th>count</th>\n",
              "      <td>3333.000000</td>\n",
              "      <td>3333.000000</td>\n",
              "      <td>3333.000000</td>\n",
              "      <td>3333.000000</td>\n",
              "      <td>3333.000000</td>\n",
              "      <td>3333.000000</td>\n",
              "      <td>3333.000000</td>\n",
              "      <td>3333.000000</td>\n",
              "      <td>3333.000000</td>\n",
              "      <td>3333.000000</td>\n",
              "      <td>3333.000000</td>\n",
              "      <td>3333.000000</td>\n",
              "      <td>3333.000000</td>\n",
              "      <td>3333.000000</td>\n",
              "      <td>3333.000000</td>\n",
              "      <td>3333.000000</td>\n",
              "    </tr>\n",
              "    <tr>\n",
              "      <th>mean</th>\n",
              "      <td>101.064806</td>\n",
              "      <td>437.182418</td>\n",
              "      <td>8.099010</td>\n",
              "      <td>179.775098</td>\n",
              "      <td>100.435644</td>\n",
              "      <td>30.562307</td>\n",
              "      <td>200.980348</td>\n",
              "      <td>100.114311</td>\n",
              "      <td>17.083540</td>\n",
              "      <td>200.872037</td>\n",
              "      <td>100.107711</td>\n",
              "      <td>9.039325</td>\n",
              "      <td>10.237294</td>\n",
              "      <td>4.479448</td>\n",
              "      <td>2.764581</td>\n",
              "      <td>1.562856</td>\n",
              "    </tr>\n",
              "    <tr>\n",
              "      <th>std</th>\n",
              "      <td>39.822106</td>\n",
              "      <td>42.371290</td>\n",
              "      <td>13.688365</td>\n",
              "      <td>54.467389</td>\n",
              "      <td>20.069084</td>\n",
              "      <td>9.259435</td>\n",
              "      <td>50.713844</td>\n",
              "      <td>19.922625</td>\n",
              "      <td>4.310668</td>\n",
              "      <td>50.573847</td>\n",
              "      <td>19.568609</td>\n",
              "      <td>2.275873</td>\n",
              "      <td>2.791840</td>\n",
              "      <td>2.461214</td>\n",
              "      <td>0.753773</td>\n",
              "      <td>1.315491</td>\n",
              "    </tr>\n",
              "    <tr>\n",
              "      <th>min</th>\n",
              "      <td>1.000000</td>\n",
              "      <td>408.000000</td>\n",
              "      <td>0.000000</td>\n",
              "      <td>0.000000</td>\n",
              "      <td>0.000000</td>\n",
              "      <td>0.000000</td>\n",
              "      <td>0.000000</td>\n",
              "      <td>0.000000</td>\n",
              "      <td>0.000000</td>\n",
              "      <td>23.200000</td>\n",
              "      <td>33.000000</td>\n",
              "      <td>1.040000</td>\n",
              "      <td>0.000000</td>\n",
              "      <td>0.000000</td>\n",
              "      <td>0.000000</td>\n",
              "      <td>0.000000</td>\n",
              "    </tr>\n",
              "    <tr>\n",
              "      <th>25%</th>\n",
              "      <td>74.000000</td>\n",
              "      <td>408.000000</td>\n",
              "      <td>0.000000</td>\n",
              "      <td>143.700000</td>\n",
              "      <td>87.000000</td>\n",
              "      <td>24.430000</td>\n",
              "      <td>166.600000</td>\n",
              "      <td>87.000000</td>\n",
              "      <td>14.160000</td>\n",
              "      <td>167.000000</td>\n",
              "      <td>87.000000</td>\n",
              "      <td>7.520000</td>\n",
              "      <td>8.500000</td>\n",
              "      <td>3.000000</td>\n",
              "      <td>2.300000</td>\n",
              "      <td>1.000000</td>\n",
              "    </tr>\n",
              "    <tr>\n",
              "      <th>50%</th>\n",
              "      <td>101.000000</td>\n",
              "      <td>415.000000</td>\n",
              "      <td>0.000000</td>\n",
              "      <td>179.400000</td>\n",
              "      <td>101.000000</td>\n",
              "      <td>30.500000</td>\n",
              "      <td>201.400000</td>\n",
              "      <td>100.000000</td>\n",
              "      <td>17.120000</td>\n",
              "      <td>201.200000</td>\n",
              "      <td>100.000000</td>\n",
              "      <td>9.050000</td>\n",
              "      <td>10.300000</td>\n",
              "      <td>4.000000</td>\n",
              "      <td>2.780000</td>\n",
              "      <td>1.000000</td>\n",
              "    </tr>\n",
              "    <tr>\n",
              "      <th>75%</th>\n",
              "      <td>127.000000</td>\n",
              "      <td>510.000000</td>\n",
              "      <td>20.000000</td>\n",
              "      <td>216.400000</td>\n",
              "      <td>114.000000</td>\n",
              "      <td>36.790000</td>\n",
              "      <td>235.300000</td>\n",
              "      <td>114.000000</td>\n",
              "      <td>20.000000</td>\n",
              "      <td>235.300000</td>\n",
              "      <td>113.000000</td>\n",
              "      <td>10.590000</td>\n",
              "      <td>12.100000</td>\n",
              "      <td>6.000000</td>\n",
              "      <td>3.270000</td>\n",
              "      <td>2.000000</td>\n",
              "    </tr>\n",
              "    <tr>\n",
              "      <th>max</th>\n",
              "      <td>243.000000</td>\n",
              "      <td>510.000000</td>\n",
              "      <td>51.000000</td>\n",
              "      <td>350.800000</td>\n",
              "      <td>165.000000</td>\n",
              "      <td>59.640000</td>\n",
              "      <td>363.700000</td>\n",
              "      <td>170.000000</td>\n",
              "      <td>30.910000</td>\n",
              "      <td>395.000000</td>\n",
              "      <td>175.000000</td>\n",
              "      <td>17.770000</td>\n",
              "      <td>20.000000</td>\n",
              "      <td>20.000000</td>\n",
              "      <td>5.400000</td>\n",
              "      <td>9.000000</td>\n",
              "    </tr>\n",
              "  </tbody>\n",
              "</table>\n",
              "</div>\n",
              "      <button class=\"colab-df-convert\" onclick=\"convertToInteractive('df-07447e17-cf41-4987-ab22-6519919abc1f')\"\n",
              "              title=\"Convert this dataframe to an interactive table.\"\n",
              "              style=\"display:none;\">\n",
              "        \n",
              "  <svg xmlns=\"http://www.w3.org/2000/svg\" height=\"24px\"viewBox=\"0 0 24 24\"\n",
              "       width=\"24px\">\n",
              "    <path d=\"M0 0h24v24H0V0z\" fill=\"none\"/>\n",
              "    <path d=\"M18.56 5.44l.94 2.06.94-2.06 2.06-.94-2.06-.94-.94-2.06-.94 2.06-2.06.94zm-11 1L8.5 8.5l.94-2.06 2.06-.94-2.06-.94L8.5 2.5l-.94 2.06-2.06.94zm10 10l.94 2.06.94-2.06 2.06-.94-2.06-.94-.94-2.06-.94 2.06-2.06.94z\"/><path d=\"M17.41 7.96l-1.37-1.37c-.4-.4-.92-.59-1.43-.59-.52 0-1.04.2-1.43.59L10.3 9.45l-7.72 7.72c-.78.78-.78 2.05 0 2.83L4 21.41c.39.39.9.59 1.41.59.51 0 1.02-.2 1.41-.59l7.78-7.78 2.81-2.81c.8-.78.8-2.07 0-2.86zM5.41 20L4 18.59l7.72-7.72 1.47 1.35L5.41 20z\"/>\n",
              "  </svg>\n",
              "      </button>\n",
              "      \n",
              "  <style>\n",
              "    .colab-df-container {\n",
              "      display:flex;\n",
              "      flex-wrap:wrap;\n",
              "      gap: 12px;\n",
              "    }\n",
              "\n",
              "    .colab-df-convert {\n",
              "      background-color: #E8F0FE;\n",
              "      border: none;\n",
              "      border-radius: 50%;\n",
              "      cursor: pointer;\n",
              "      display: none;\n",
              "      fill: #1967D2;\n",
              "      height: 32px;\n",
              "      padding: 0 0 0 0;\n",
              "      width: 32px;\n",
              "    }\n",
              "\n",
              "    .colab-df-convert:hover {\n",
              "      background-color: #E2EBFA;\n",
              "      box-shadow: 0px 1px 2px rgba(60, 64, 67, 0.3), 0px 1px 3px 1px rgba(60, 64, 67, 0.15);\n",
              "      fill: #174EA6;\n",
              "    }\n",
              "\n",
              "    [theme=dark] .colab-df-convert {\n",
              "      background-color: #3B4455;\n",
              "      fill: #D2E3FC;\n",
              "    }\n",
              "\n",
              "    [theme=dark] .colab-df-convert:hover {\n",
              "      background-color: #434B5C;\n",
              "      box-shadow: 0px 1px 3px 1px rgba(0, 0, 0, 0.15);\n",
              "      filter: drop-shadow(0px 1px 2px rgba(0, 0, 0, 0.3));\n",
              "      fill: #FFFFFF;\n",
              "    }\n",
              "  </style>\n",
              "\n",
              "      <script>\n",
              "        const buttonEl =\n",
              "          document.querySelector('#df-07447e17-cf41-4987-ab22-6519919abc1f button.colab-df-convert');\n",
              "        buttonEl.style.display =\n",
              "          google.colab.kernel.accessAllowed ? 'block' : 'none';\n",
              "\n",
              "        async function convertToInteractive(key) {\n",
              "          const element = document.querySelector('#df-07447e17-cf41-4987-ab22-6519919abc1f');\n",
              "          const dataTable =\n",
              "            await google.colab.kernel.invokeFunction('convertToInteractive',\n",
              "                                                     [key], {});\n",
              "          if (!dataTable) return;\n",
              "\n",
              "          const docLinkHtml = 'Like what you see? Visit the ' +\n",
              "            '<a target=\"_blank\" href=https://colab.research.google.com/notebooks/data_table.ipynb>data table notebook</a>'\n",
              "            + ' to learn more about interactive tables.';\n",
              "          element.innerHTML = '';\n",
              "          dataTable['output_type'] = 'display_data';\n",
              "          await google.colab.output.renderOutput(dataTable, element);\n",
              "          const docLink = document.createElement('div');\n",
              "          docLink.innerHTML = docLinkHtml;\n",
              "          element.appendChild(docLink);\n",
              "        }\n",
              "      </script>\n",
              "    </div>\n",
              "  </div>\n",
              "  "
            ]
          },
          "metadata": {},
          "execution_count": 10
        }
      ]
    },
    {
      "cell_type": "markdown",
      "source": [
        "### Variables Description "
      ],
      "metadata": {
        "id": "M2UVqk1-KfeM"
      }
    },
    {
      "cell_type": "markdown",
      "source": [
        "***These are the variables in the dataset***\n",
        "<br>'State' : State of the customers\n",
        "<br>'Account length': Length of the account\n",
        "<br>'Area code' : Area code\n",
        "<br>'International plan' : whether a customer subscribed for International plan or not\n",
        "<br>'Voice mail plan' : Whether a customer subscribed for Voice mail plan or not\n",
        "<br>'Number vmail messages' : Number of voice mail messages\n",
        "<br>'Total day minutes' : Total durations of calls for day\n",
        "<br>'Total day calls' : Total number of calls for day\n",
        "<br>'Total day charge' : Total price charged by a customer for day\n",
        "<br>'Total eve minutes' : Total durations of calls in minute for evening\n",
        "<br>'Total eve calls' : Total number of calls for evening\n",
        "<br>'Total eve charge' : Total price charged by a customer for evening\n",
        "<br>'Total night minutes' : Total durations of calls for night\n",
        "<br>'Total night calls' : Total number of calls for night\n",
        "<br>'Total night charge' : Total price charged by a customer for night\n",
        "<br>'Total intl minutes' :  Total international call durations\n",
        "<br>'Total intl calls' : Total number of international calls\n",
        "<br>'Total intl charge' : Total charged for international services\n",
        "<br>'Customer service calls' : Type of call services.\n",
        "<br>'Churn' : churn or non churn"
      ],
      "metadata": {
        "id": "WRCWOBFhKfbv"
      }
    },
    {
      "cell_type": "markdown",
      "source": [
        "### Check Unique Values for each variable."
      ],
      "metadata": {
        "id": "lFkviErPKfZP"
      }
    },
    {
      "cell_type": "code",
      "source": [
        "# Check Unique Values for each variable.\n",
        "# Printing Number of unique values for each column\n",
        "for col in telecom_df.columns:\n",
        "    print(f\"Number of unique value for {col} is : {len(telecom_df[col].unique())}\")"
      ],
      "metadata": {
        "colab": {
          "base_uri": "https://localhost:8080/"
        },
        "id": "rGOeTKXoKa67",
        "outputId": "4d3aeffb-53db-40f2-8e57-c78869d5603f"
      },
      "execution_count": 11,
      "outputs": [
        {
          "output_type": "stream",
          "name": "stdout",
          "text": [
            "Number of unique value for State is : 51\n",
            "Number of unique value for Account length is : 212\n",
            "Number of unique value for Area code is : 3\n",
            "Number of unique value for International plan is : 2\n",
            "Number of unique value for Voice mail plan is : 2\n",
            "Number of unique value for Number vmail messages is : 46\n",
            "Number of unique value for Total day minutes is : 1667\n",
            "Number of unique value for Total day calls is : 119\n",
            "Number of unique value for Total day charge is : 1667\n",
            "Number of unique value for Total eve minutes is : 1611\n",
            "Number of unique value for Total eve calls is : 123\n",
            "Number of unique value for Total eve charge is : 1440\n",
            "Number of unique value for Total night minutes is : 1591\n",
            "Number of unique value for Total night calls is : 120\n",
            "Number of unique value for Total night charge is : 933\n",
            "Number of unique value for Total intl minutes is : 162\n",
            "Number of unique value for Total intl calls is : 21\n",
            "Number of unique value for Total intl charge is : 162\n",
            "Number of unique value for Customer service calls is : 10\n",
            "Number of unique value for Churn is : 2\n"
          ]
        }
      ]
    },
    {
      "cell_type": "code",
      "source": [
        "# Printing unique values for each column\n",
        "for col in telecom_df.columns:\n",
        "    print(f\"Unique values for {col} : \\n {telecom_df[col].unique()}\")"
      ],
      "metadata": {
        "colab": {
          "base_uri": "https://localhost:8080/"
        },
        "id": "ynPLKt3gKzIc",
        "outputId": "54181261-3ac3-4a72-f012-064a33703eb6"
      },
      "execution_count": 12,
      "outputs": [
        {
          "output_type": "stream",
          "name": "stdout",
          "text": [
            "Unique values for State : \n",
            " ['KS' 'OH' 'NJ' 'OK' 'AL' 'MA' 'MO' 'LA' 'WV' 'IN' 'RI' 'IA' 'MT' 'NY'\n",
            " 'ID' 'VT' 'VA' 'TX' 'FL' 'CO' 'AZ' 'SC' 'NE' 'WY' 'HI' 'IL' 'NH' 'GA'\n",
            " 'AK' 'MD' 'AR' 'WI' 'OR' 'MI' 'DE' 'UT' 'CA' 'MN' 'SD' 'NC' 'WA' 'NM'\n",
            " 'NV' 'DC' 'KY' 'ME' 'MS' 'TN' 'PA' 'CT' 'ND']\n",
            "Unique values for Account length : \n",
            " [128 107 137  84  75 118 121 147 117 141  65  74 168  95  62 161  85  93\n",
            "  76  73  77 130 111 132 174  57  54  20  49 142 172  12  72  36  78 136\n",
            " 149  98 135  34 160  64  59 119  97  52  60  10  96  87  81  68 125 116\n",
            "  38  40  43 113 126 150 138 162  90  50  82 144  46  70  55 106  94 155\n",
            "  80 104  99 120 108 122 157 103  63 112  41 193  61  92 131 163  91 127\n",
            " 110 140  83 145  56 151 139   6 115 146 185 148  32  25 179  67  19 170\n",
            " 164  51 208  53 105  66  86  35  88 123  45 100 215  22  33 114  24 101\n",
            " 143  48  71 167  89 199 166 158 196 209  16  39 173 129  44  79  31 124\n",
            "  37 159 194 154  21 133 224  58  11 109 102 165  18  30 176  47 190 152\n",
            "  26  69 186 171  28 153 169  13  27   3  42 189 156 134 243  23   1 205\n",
            " 200   5   9 178 181 182 217 177 210  29 180   2  17   7 212 232 192 195\n",
            " 197 225 184 191 201  15 183 202   8 175   4 188 204 221]\n",
            "Unique values for Area code : \n",
            " [415 408 510]\n",
            "Unique values for International plan : \n",
            " ['No' 'Yes']\n",
            "Unique values for Voice mail plan : \n",
            " ['Yes' 'No']\n",
            "Unique values for Number vmail messages : \n",
            " [25 26  0 24 37 27 33 39 30 41 28 34 46 29 35 21 32 42 36 22 23 43 31 38\n",
            " 40 48 18 17 45 16 20 14 19 51 15 11 12 47  8 44 49  4 10 13 50  9]\n",
            "Unique values for Total day minutes : \n",
            " [265.1 161.6 243.4 ... 321.1 231.1 180.8]\n",
            "Unique values for Total day calls : \n",
            " [110 123 114  71 113  98  88  79  97  84 137 127  96  70  67 139  66  90\n",
            " 117  89 112 103  86  76 115  73 109  95 105 121 118  94  80 128  64 106\n",
            " 102  85  82  77 120 133 135 108  57  83 129  91  92  74  93 101 146  72\n",
            "  99 104 125  61 100  87 131  65 124 119  52  68 107  47 116 151 126 122\n",
            " 111 145  78 136 140 148  81  55  69 158 134 130  63  53  75 141 163  59\n",
            " 132 138  54  58  62 144 143 147  36  40 150  56  51 165  30  48  60  42\n",
            "   0  45 160 149 152 142 156  35  49 157  44]\n",
            "Unique values for Total day charge : \n",
            " [45.07 27.47 41.38 ... 54.59 39.29 30.74]\n",
            "Unique values for Total eve minutes : \n",
            " [197.4 195.5 121.2 ... 153.4 288.8 265.9]\n",
            "Unique values for Total eve calls : \n",
            " [ 99 103 110  88 122 101 108  94  80 111  83 148  71  75  76  97  90  65\n",
            "  93 121 102  72 112 100  84 109  63 107 115 119 116  92  85  98 118  74\n",
            " 117  58  96  66  67  62  77 164 126 142  64 104  79  95  86 105  81 113\n",
            " 106  59  48  82  87 123 114 140 128  60  78 125  91  46 138 129  89 133\n",
            " 136  57 135 139  51  70 151 137 134  73 152 168  68 120  69 127 132 143\n",
            "  61 124  42  54 131  52 149  56  37 130  49 146 147  55  12  50 157 155\n",
            "  45 144  36 156  53 141  44 153 154 150  43   0 145 159 170]\n",
            "Unique values for Total eve charge : \n",
            " [16.78 16.62 10.3  ... 13.04 24.55 22.6 ]\n",
            "Unique values for Total night minutes : \n",
            " [244.7 254.4 162.6 ... 280.9 120.1 279.1]\n",
            "Unique values for Total night calls : \n",
            " [ 91 103 104  89 121 118  96  90  97 111  94 128 115  99  75 108  74 133\n",
            "  64  78 105  68 102 148  98 116  71 109 107 135  92  86 127  79  87 129\n",
            "  57  77  95  54 106  53  67 139  60 100  61  73 113  76 119  88  84  62\n",
            " 137  72 142 114 126 122  81 123 117  82  80 120 130 134  59 112 132 110\n",
            " 101 150  69 131  83  93 124 136 125  66 143  58  55  85  56  70  46  42\n",
            " 152  44 145  50 153  49 175  63 138 154 140 141 146  65  51 151 158 155\n",
            " 157 147 144 149 166  52  33 156  38  36  48 164]\n",
            "Unique values for Total night charge : \n",
            " [11.01 11.45  7.32  8.86  8.41  9.18  9.57  9.53  9.71 14.69  9.4   8.82\n",
            "  6.35  8.65  9.14  7.23  4.02  5.83  7.46  8.68  9.43  8.18  8.53 10.67\n",
            " 11.28  8.22  4.59  8.17  8.04 11.27 11.08 13.2  12.61  9.61  6.88  5.82\n",
            " 10.25  4.58  8.47  8.45  5.5  14.02  8.03 11.94  7.34  6.06 10.9   6.44\n",
            "  3.18 10.66 11.21 12.73 10.28 12.16  6.34  8.15  5.84  8.52  7.5   7.48\n",
            "  6.21 11.95  7.15  9.63  7.1   6.91  6.69 13.29 11.46  7.76  6.86  8.16\n",
            " 12.15  7.79  7.99 10.29 10.08 12.53  7.91 10.02  8.61 14.54  8.21  9.09\n",
            "  4.93 11.39 11.88  5.75  7.83  8.59  7.52 12.38  7.21  5.81  8.1  11.04\n",
            " 11.19  8.55  8.42  9.76  9.87 10.86  5.36 10.03 11.15  9.51  6.22  2.59\n",
            "  7.65  6.45  9.    6.4   9.94  5.08 10.23 11.36  6.97 10.16  7.88 11.91\n",
            "  6.61 11.55 11.76  9.27  9.29 11.12 10.69  8.8  11.85  7.14  8.71 11.42\n",
            "  4.94  9.02 11.22  4.97  9.15  5.45  7.27 12.91  7.75 13.46  6.32 12.13\n",
            " 11.97  6.93 11.66  7.42  6.19 11.41 10.33 10.65 11.92  4.77  4.38  7.41\n",
            " 12.1   7.69  8.78  9.36  9.05 12.7   6.16  6.05 10.85  8.93  3.48 10.4\n",
            "  5.05 10.71  9.37  6.75  8.12 11.77 11.49 11.06 11.25 11.03 10.82  8.91\n",
            "  8.57  8.09 10.05 11.7  10.17  8.74  5.51 11.11  3.29 10.13  6.8   8.49\n",
            "  9.55 11.02  9.91  7.84 10.62  9.97  3.44  7.35  9.79  8.89  8.14  6.94\n",
            " 10.49 10.57 10.2   6.29  8.79 10.04 12.41 15.97  9.1  11.78 12.75 11.07\n",
            " 12.56  8.63  8.02 10.42  8.7   9.98  7.62  8.33  6.59 13.12 10.46  6.63\n",
            "  8.32  9.04  9.28 10.76  9.64 11.44  6.48 10.81 12.66 11.34  8.75 13.05\n",
            " 11.48 14.04 13.47  5.63  6.6   9.72 11.68  6.41  9.32 12.95 13.37  9.62\n",
            "  6.03  8.25  8.26 11.96  9.9   9.23  5.58  7.22  6.64 12.29 12.93 11.32\n",
            "  6.85  8.88  7.03  8.48  3.59  5.86  6.23  7.61  7.66 13.63  7.9  11.82\n",
            "  7.47  6.08  8.4   5.74 10.94 10.35 10.68  4.34  8.73  5.14  8.24  9.99\n",
            " 13.93  8.64 11.43  5.79  9.2  10.14 12.11  7.53 12.46  8.46  8.95  9.84\n",
            " 10.8  11.23 10.15  9.21 14.46  6.67 12.83  9.66  9.59 10.48  8.36  4.84\n",
            " 10.54  8.39  7.43  9.06  8.94 11.13  8.87  8.5   7.6  10.73  9.56 10.77\n",
            "  7.73  3.47 11.86  8.11  9.78  9.42  9.65  7.    7.39  9.88  6.56  5.92\n",
            "  6.95 15.71  8.06  4.86  7.8   8.58 10.06  5.21  6.92  6.15 13.49  9.38\n",
            " 12.62 12.26  8.19 11.65 11.62 10.83  7.92  7.33 13.01 13.26 12.22 11.58\n",
            "  5.97 10.99  8.38  9.17  8.08  5.71  3.41 12.63 11.79 12.96  7.64  6.58\n",
            " 10.84 10.22  6.52  5.55  7.63  5.11  5.89 10.78  3.05 11.89  8.97 10.44\n",
            " 10.5   9.35  5.66 11.09  9.83  5.44 10.11  6.39 11.93  8.62 12.06  6.02\n",
            "  8.85  5.25  8.66  6.73 10.21 11.59 13.87  7.77 10.39  5.54  6.62 13.33\n",
            "  6.24 12.59  6.3   6.79  8.28  9.03  8.07  5.52 12.14 10.59  7.54  7.67\n",
            "  5.47  8.81  8.51 13.45  8.77  6.43 12.01 12.08  7.07  6.51  6.84  9.48\n",
            " 13.78 11.54 11.67  8.13 10.79  7.13  4.72  4.64  8.96 13.03  6.07  3.51\n",
            "  6.83  6.12  9.31  9.58  4.68  5.32  9.26 11.52  9.11 10.55 11.47  9.3\n",
            " 13.82  8.44  5.77 10.96 11.74  8.9  10.47  7.85 10.92  4.74  9.74 10.43\n",
            "  9.96 10.18  9.54  7.89 12.36  8.54 10.07  9.46  7.3  11.16  9.16 10.19\n",
            "  5.99 10.88  5.8   7.19  4.55  8.31  8.01 14.43  8.3  14.3   6.53  8.2\n",
            " 11.31 13.    6.42  4.24  7.44  7.51 13.1   9.49  6.14  8.76  6.65 10.56\n",
            "  6.72  8.29 12.09  5.39  2.96  7.59  7.24  4.28  9.7   8.83 13.3  11.37\n",
            "  9.33  5.01  3.26 11.71  8.43  9.68 15.56  9.8   3.61  6.96 11.61 12.81\n",
            " 10.87 13.84  5.03  5.17  2.03 10.34  9.34  7.95 10.09  9.95  7.11  9.22\n",
            "  6.13 11.05  9.89  9.39 14.06 10.26 13.31 15.43 16.39  6.27 10.64 11.5\n",
            " 12.48  8.27 13.53 10.36 12.24  8.69 10.52  9.07 11.51  9.25  8.72  6.78\n",
            "  8.6  11.84  5.78  5.85 12.3   5.76 12.07  9.6   8.84 12.39 10.1   9.73\n",
            "  2.85  6.66  2.45  5.28 11.73 10.75  7.74  6.76  6.    7.58 13.69  7.93\n",
            "  7.68  9.75  4.96  5.49 11.83  7.18  9.19  7.7   7.25 10.74  4.27 13.8\n",
            "  9.12  4.75  7.78 11.63  7.55  2.25  9.45  9.86  7.71  4.95  7.4  11.17\n",
            " 11.33  6.82 13.7   1.97 10.89 12.77 10.31  5.23  5.27  9.41  6.09 10.61\n",
            "  7.29  4.23  7.57  3.67 12.69 14.5   5.95  7.87  5.96  5.94 12.23  4.9\n",
            " 12.33  6.89  9.67 12.68 12.87  3.7   6.04 13.13 15.74 11.87  4.7   4.67\n",
            "  7.05  5.42  4.09  5.73  9.47  8.05  6.87  3.71 15.86  7.49 11.69  6.46\n",
            " 10.45 12.9   5.41 11.26  1.04  6.49  6.37 12.21  6.77 12.65  7.86  9.44\n",
            "  4.3   7.38  5.02 10.63  2.86 17.19  8.67  8.37  6.9  10.93 10.38  7.36\n",
            " 10.27 10.95  6.11  4.45 11.9  15.01 12.84  7.45  6.98 11.72  7.56 11.38\n",
            " 10.    4.42  9.81  5.56  6.01 10.12 12.4  16.99  5.68 11.64  3.78  7.82\n",
            "  9.85 13.74 12.71 10.98 10.01  9.52  7.31  8.35 11.35  9.5  14.03  3.2\n",
            "  7.72 13.22 10.7   8.99 10.6  13.02  9.77 12.58 12.35 12.2  11.4  13.91\n",
            "  3.57 14.65 12.28  5.13 10.72 12.86 14.    7.12 12.17  4.71  6.28  8.\n",
            "  7.01  5.91  5.2  12.   12.02 12.88  7.28  5.4  12.04  5.24 10.3  10.41\n",
            " 13.41 12.72  9.08  7.08 13.5   5.35 12.45  5.3  10.32  5.15 12.67  5.22\n",
            "  5.57  3.94  4.41 13.27 10.24  4.25 12.89  5.72 12.5  11.29  3.25 11.53\n",
            "  9.82  7.26  4.1  10.37  4.98  6.74 12.52 14.56  8.34  3.82  3.86 13.97\n",
            " 11.57  6.5  13.58 14.32 13.75 11.14 14.18  9.13  4.46  4.83  9.69 14.13\n",
            "  7.16  7.98 13.66 14.78 11.2   9.93 11.    5.29  9.92  4.29 11.1  10.51\n",
            " 12.49  4.04 12.94  7.09  6.71  7.94  5.31  5.98  7.2  14.82 13.21 12.32\n",
            " 10.58  4.92  6.2   4.47 11.98  6.18  7.81  4.54  5.37  7.17  5.33 14.1\n",
            "  5.7  12.18  8.98  5.1  14.67 13.95 16.55 11.18  4.44  4.73  2.55  6.31\n",
            "  2.43  9.24  7.37 13.42 12.42 11.8  14.45  2.89 13.23 12.6  13.18 12.19\n",
            " 14.81  6.55 11.3  12.27 13.98  8.23 15.49  6.47 13.48 13.59 13.25 17.77\n",
            " 13.9   3.97 11.56 14.08 13.6   6.26  4.61 12.76 15.76  6.38  3.6  12.8\n",
            "  5.9   7.97  5.   10.97  5.88 12.34 12.03 14.97 15.06 12.85  6.54 11.24\n",
            " 12.64  7.06  5.38 13.14  3.99  3.32  4.51  4.12  3.93  2.4  11.75  4.03\n",
            " 15.85  6.81 14.25 14.09 16.42  6.7  12.74  2.76 12.12  6.99  6.68 11.81\n",
            "  7.96  5.06 13.16  2.13 13.17  5.12  5.65 12.37 10.53]\n",
            "Unique values for Total intl minutes : \n",
            " [10.  13.7 12.2  6.6 10.1  6.3  7.5  7.1  8.7 11.2 12.7  9.1 12.3 13.1\n",
            "  5.4 13.8  8.1 13.  10.6  5.7  9.5  7.7 10.3 15.5 14.7 11.1 14.2 12.6\n",
            " 11.8  8.3 14.5 10.5  9.4 14.6  9.2  3.5  8.5 13.2  7.4  8.8 11.   7.8\n",
            "  6.8 11.4  9.3  9.7 10.2  8.   5.8 12.1 12.  11.6  8.2  6.2  7.3  6.1\n",
            " 11.7 15.   9.8 12.4  8.6 10.9 13.9  8.9  7.9  5.3  4.4 12.5 11.3  9.\n",
            "  9.6 13.3 20.   7.2  6.4 14.1 14.3  6.9 11.5 15.8 12.8 16.2  0.  11.9\n",
            "  9.9  8.4 10.8 13.4 10.7 17.6  4.7  2.7 13.5 12.9 14.4 10.4  6.7 15.4\n",
            "  4.5  6.5 15.6  5.9 18.9  7.6  5.   7.  14.  18.  16.  14.8  3.7  2.\n",
            "  4.8 15.3  6.  13.6 17.2 17.5  5.6 18.2  3.6 16.5  4.6  5.1  4.1 16.3\n",
            " 14.9 16.4 16.7  1.3 15.2 15.1 15.9  5.5 16.1  4.  16.9  5.2  4.2 15.7\n",
            " 17.   3.9  3.8  2.2 17.1  4.9 17.9 17.3 18.4 17.8  4.3  2.9  3.1  3.3\n",
            "  2.6  3.4  1.1 18.3 16.6  2.1  2.4  2.5]\n",
            "Unique values for Total intl calls : \n",
            " [ 3  5  7  6  4  2  9 19  1 10 15  8 11  0 12 13 18 14 16 20 17]\n",
            "Unique values for Total intl charge : \n",
            " [2.7  3.7  3.29 1.78 2.73 1.7  2.03 1.92 2.35 3.02 3.43 2.46 3.32 3.54\n",
            " 1.46 3.73 2.19 3.51 2.86 1.54 2.57 2.08 2.78 4.19 3.97 3.   3.83 3.4\n",
            " 3.19 2.24 3.92 2.84 2.54 3.94 2.48 0.95 2.3  3.56 2.   2.38 2.97 2.11\n",
            " 1.84 3.08 2.51 2.62 2.75 2.16 1.57 3.27 3.24 3.13 2.21 1.67 1.97 1.65\n",
            " 3.16 4.05 2.65 3.35 2.32 2.94 3.75 2.4  2.13 1.43 1.19 3.38 3.05 2.43\n",
            " 2.59 3.59 5.4  1.94 1.73 3.81 3.86 1.86 3.11 4.27 3.46 4.37 0.   3.21\n",
            " 2.67 2.27 2.92 3.62 2.89 4.75 1.27 0.73 3.65 3.48 3.89 2.81 1.81 4.16\n",
            " 1.22 1.76 4.21 1.59 5.1  2.05 1.35 1.89 3.78 4.86 4.32 4.   1.   0.54\n",
            " 1.3  4.13 1.62 3.67 4.64 4.73 1.51 4.91 0.97 4.46 1.24 1.38 1.11 4.4\n",
            " 4.02 4.43 4.51 0.35 4.1  4.08 4.29 1.49 4.35 1.08 4.56 1.4  1.13 4.24\n",
            " 4.59 1.05 1.03 0.59 4.62 1.32 4.83 4.67 4.97 4.81 1.16 0.78 0.84 0.89\n",
            " 0.7  0.92 0.3  4.94 4.48 0.57 0.65 0.68]\n",
            "Unique values for Customer service calls : \n",
            " [1 0 2 3 4 5 7 9 6 8]\n",
            "Unique values for Churn : \n",
            " [False  True]\n"
          ]
        }
      ]
    },
    {
      "cell_type": "markdown",
      "source": [
        "# Here I will answer some Questions"
      ],
      "metadata": {
        "id": "j6VC0c89KfWf"
      }
    },
    {
      "cell_type": "markdown",
      "source": [
        "****Q1: What are the number of Churns and non churns?****"
      ],
      "metadata": {
        "id": "aIQm9s9LKfUT"
      }
    },
    {
      "cell_type": "code",
      "source": [
        "# Number of churns and non churns\n",
        "print(f\"Total number of churns and non churns are : \\n{telecom_df['Churn'].value_counts()}\")"
      ],
      "metadata": {
        "colab": {
          "base_uri": "https://localhost:8080/"
        },
        "id": "6quXwGTmKv0N",
        "outputId": "a098f047-9706-4c06-876b-961f19bbb336"
      },
      "execution_count": 13,
      "outputs": [
        {
          "output_type": "stream",
          "name": "stdout",
          "text": [
            "Total number of churns and non churns are : \n",
            "False    2850\n",
            "True      483\n",
            "Name: Churn, dtype: int64\n"
          ]
        }
      ]
    },
    {
      "cell_type": "markdown",
      "source": [
        "****Q2: What are the number of churns and non churns for each state?****"
      ],
      "metadata": {
        "id": "rlo_WJEKLDYv"
      }
    },
    {
      "cell_type": "code",
      "source": [
        "# number of churn and non churn for each state\n",
        "print(f\"Number of churn and non churn for each state is : \\n\\n{telecom_df.groupby(['State','Churn'])['Churn'].count().unstack()}\")"
      ],
      "metadata": {
        "colab": {
          "base_uri": "https://localhost:8080/"
        },
        "id": "PDeRBAVBLAcM",
        "outputId": "98f34d2f-664c-45c7-f6e4-480e6228ba2c"
      },
      "execution_count": 14,
      "outputs": [
        {
          "output_type": "stream",
          "name": "stdout",
          "text": [
            "Number of churn and non churn for each state is : \n",
            "\n",
            "Churn  False  True\n",
            "State             \n",
            "AK        49     3\n",
            "AL        72     8\n",
            "AR        44    11\n",
            "AZ        60     4\n",
            "CA        25     9\n",
            "CO        57     9\n",
            "CT        62    12\n",
            "DC        49     5\n",
            "DE        52     9\n",
            "FL        55     8\n",
            "GA        46     8\n",
            "HI        50     3\n",
            "IA        41     3\n",
            "ID        64     9\n",
            "IL        53     5\n",
            "IN        62     9\n",
            "KS        57    13\n",
            "KY        51     8\n",
            "LA        47     4\n",
            "MA        54    11\n",
            "MD        53    17\n",
            "ME        49    13\n",
            "MI        57    16\n",
            "MN        69    15\n",
            "MO        56     7\n",
            "MS        51    14\n",
            "MT        54    14\n",
            "NC        57    11\n",
            "ND        56     6\n",
            "NE        56     5\n",
            "NH        47     9\n",
            "NJ        50    18\n",
            "NM        56     6\n",
            "NV        52    14\n",
            "NY        68    15\n",
            "OH        68    10\n",
            "OK        52     9\n",
            "OR        67    11\n",
            "PA        37     8\n",
            "RI        59     6\n",
            "SC        46    14\n",
            "SD        52     8\n",
            "TN        48     5\n",
            "TX        54    18\n",
            "UT        62    10\n",
            "VA        72     5\n",
            "VT        65     8\n",
            "WA        52    14\n",
            "WI        71     7\n",
            "WV        96    10\n",
            "WY        68     9\n"
          ]
        }
      ]
    },
    {
      "cell_type": "markdown",
      "source": [
        "****Q3: What is the number of churn and non churn for each Area?****"
      ],
      "metadata": {
        "id": "hLMs4MGNLKoZ"
      }
    },
    {
      "cell_type": "code",
      "source": [
        "# Number of churn/non churn for each area\n",
        "print(f\"Number of churn/non churn for each area is : \\n\\n{telecom_df.groupby(['Area code','Churn'])['Churn'].count().unstack()}\")"
      ],
      "metadata": {
        "colab": {
          "base_uri": "https://localhost:8080/"
        },
        "id": "AbDjl9xaLF7m",
        "outputId": "b2147253-7391-43d8-864a-7698b88202ea"
      },
      "execution_count": 15,
      "outputs": [
        {
          "output_type": "stream",
          "name": "stdout",
          "text": [
            "Number of churn/non churn for each area is : \n",
            "\n",
            "Churn      False  True\n",
            "Area code             \n",
            "408          716   122\n",
            "415         1419   236\n",
            "510          715   125\n"
          ]
        }
      ]
    },
    {
      "cell_type": "markdown",
      "source": [
        "****Q4: What is the number of churn for the people who subscribed for international plan?****"
      ],
      "metadata": {
        "id": "hVlED3VzLUir"
      }
    },
    {
      "cell_type": "code",
      "source": [
        "# Nunber of churn/non with/without International plan.\n",
        "print(f\"Number of churn/non churn for the person with International plan : \\n\\n{telecom_df.groupby(['International plan','Churn'])['Churn'].count().unstack()}\")"
      ],
      "metadata": {
        "colab": {
          "base_uri": "https://localhost:8080/"
        },
        "id": "z3EBoEPLLNeK",
        "outputId": "69853c61-6d4c-45db-e855-d4ec2d9a8d5b"
      },
      "execution_count": 16,
      "outputs": [
        {
          "output_type": "stream",
          "name": "stdout",
          "text": [
            "Number of churn/non churn for the person with International plan : \n",
            "\n",
            "Churn               False  True\n",
            "International plan             \n",
            "No                   2664   346\n",
            "Yes                   186   137\n"
          ]
        }
      ]
    },
    {
      "cell_type": "markdown",
      "source": [
        "Number of churn with international plan is : 137<br>\n",
        "Number of churn without international plan is : 346"
      ],
      "metadata": {
        "id": "pgTRKgkULbOH"
      }
    },
    {
      "cell_type": "markdown",
      "source": [
        "****Q5: What is the number of churn/non churn with/without voice mail plan?****"
      ],
      "metadata": {
        "id": "VW8dZnIaLeDy"
      }
    },
    {
      "cell_type": "code",
      "source": [
        "# Nunber of churn/non with/without voice mail plan.\n",
        "print(f\"Number of churn/non churn for the person with voice mail plan : \\n\\n{telecom_df.groupby(['Voice mail plan','Churn'])['Churn'].count().unstack()}\")"
      ],
      "metadata": {
        "colab": {
          "base_uri": "https://localhost:8080/"
        },
        "id": "sf27jVjvLXVT",
        "outputId": "fe1c1c30-f462-437d-fefa-477c4d04be9c"
      },
      "execution_count": 17,
      "outputs": [
        {
          "output_type": "stream",
          "name": "stdout",
          "text": [
            "Number of churn/non churn for the person with voice mail plan : \n",
            "\n",
            "Churn            False  True\n",
            "Voice mail plan             \n",
            "No                2008   403\n",
            "Yes                842    80\n"
          ]
        }
      ]
    },
    {
      "cell_type": "markdown",
      "source": [
        "Number of churn with voice mail plan is : 80<br>\n",
        "Number of churn without voice mail plan is : 403"
      ],
      "metadata": {
        "id": "_jCFmWPbLkFg"
      }
    },
    {
      "cell_type": "markdown",
      "source": [
        "****Q5: What is the total number of voice mail message?****"
      ],
      "metadata": {
        "id": "_aOSz--9Lmxe"
      }
    },
    {
      "cell_type": "code",
      "source": [
        "print(f\"Total number of voice mail message is : {telecom_df['Number vmail messages'].sum()}\")"
      ],
      "metadata": {
        "colab": {
          "base_uri": "https://localhost:8080/"
        },
        "id": "70WP7e8xLg00",
        "outputId": "86d38150-7687-4b95-b3f0-4321d5d36850"
      },
      "execution_count": 18,
      "outputs": [
        {
          "output_type": "stream",
          "name": "stdout",
          "text": [
            "Total number of voice mail message is : 26994\n"
          ]
        }
      ]
    },
    {
      "cell_type": "markdown",
      "source": [
        "****Q6: What is the total call duration at day, evening and night?****"
      ],
      "metadata": {
        "id": "IGQyiUN6Lv1W"
      }
    },
    {
      "cell_type": "code",
      "source": [
        "print(f\"Total call duration at day is : {round(telecom_df['Total day minutes'].sum(),2)} min\")\n",
        "print(f\"Total call duration at evening is : {round(telecom_df['Total eve minutes'].sum(),2)} min\")\n",
        "print(f\"Total call duration at night is : {round(telecom_df['Total night minutes'].sum(),2)} min\")"
      ],
      "metadata": {
        "colab": {
          "base_uri": "https://localhost:8080/"
        },
        "id": "BAgtTmPJLsE-",
        "outputId": "e4a203e8-2117-455b-af99-bc6665cd9d26"
      },
      "execution_count": 19,
      "outputs": [
        {
          "output_type": "stream",
          "name": "stdout",
          "text": [
            "Total call duration at day is : 599190.4 min\n",
            "Total call duration at evening is : 669867.5 min\n",
            "Total call duration at night is : 669506.5 min\n"
          ]
        }
      ]
    },
    {
      "cell_type": "markdown",
      "source": [
        "****Q7: What is the total number of calls at day, evening and night?****"
      ],
      "metadata": {
        "id": "iI3JmlBtL5h6"
      }
    },
    {
      "cell_type": "code",
      "source": [
        "print(f\"Total number of calls at day is : {round(telecom_df['Total day calls'].sum(),2)}\")\n",
        "print(f\"Total number of calls at evening is : {round(telecom_df['Total eve calls'].sum(),2)}\")\n",
        "print(f\"Total number of calls at night is : {round(telecom_df['Total night calls'].sum(),2)}\")"
      ],
      "metadata": {
        "colab": {
          "base_uri": "https://localhost:8080/"
        },
        "id": "p6x3pi1qLyaA",
        "outputId": "0a92c4e0-d56f-4ab7-df58-4e7b85e3279c"
      },
      "execution_count": 20,
      "outputs": [
        {
          "output_type": "stream",
          "name": "stdout",
          "text": [
            "Total number of calls at day is : 334752\n",
            "Total number of calls at evening is : 333681\n",
            "Total number of calls at night is : 333659\n"
          ]
        }
      ]
    },
    {
      "cell_type": "markdown",
      "source": [
        "****Q8: What is the total charges at day, evening and night?****"
      ],
      "metadata": {
        "id": "3ELbVmtKL_2_"
      }
    },
    {
      "cell_type": "code",
      "source": [
        "print(f\"Total charges at day is : {round(telecom_df['Total day charge'].sum(),2)}\")\n",
        "print(f\"Total charges at evening is : {round(telecom_df['Total eve charge'].sum(),2)}\")\n",
        "print(f\"Total charges at night is : {round(telecom_df['Total night charge'].sum(),2)}\")"
      ],
      "metadata": {
        "colab": {
          "base_uri": "https://localhost:8080/"
        },
        "id": "kK8nhAA2L841",
        "outputId": "30e0df46-9ab0-4984-f7c2-1e8ce20042ff"
      },
      "execution_count": 21,
      "outputs": [
        {
          "output_type": "stream",
          "name": "stdout",
          "text": [
            "Total charges at day is : 101864.17\n",
            "Total charges at evening is : 56939.44\n",
            "Total charges at night is : 30128.07\n"
          ]
        }
      ]
    },
    {
      "cell_type": "markdown",
      "source": [
        "****Q9:What is total international call duration, number of calls and charges?****"
      ],
      "metadata": {
        "id": "vv4byaAeMEB1"
      }
    },
    {
      "cell_type": "code",
      "source": [
        "print(f\"Total international call duration is : {telecom_df['Total intl minutes'].sum()} minutes\")\n",
        "print(f\"Total international number of call is : {telecom_df['Total intl calls'].sum()}\")\n",
        "print(f\"Total international call charge is : {round(telecom_df['Total intl charge'].sum(),2)}\")"
      ],
      "metadata": {
        "colab": {
          "base_uri": "https://localhost:8080/"
        },
        "id": "XtoVQrQTMDCX",
        "outputId": "4956be9e-82e1-4ee6-cfe0-c9bb04e702c6"
      },
      "execution_count": 22,
      "outputs": [
        {
          "output_type": "stream",
          "name": "stdout",
          "text": [
            "Total international call duration is : 34120.9 minutes\n",
            "Total international number of call is : 14930\n",
            "Total international call charge is : 9214.35\n"
          ]
        }
      ]
    },
    {
      "cell_type": "markdown",
      "source": [
        "## 3. ***Data Wrangling***"
      ],
      "metadata": {
        "id": "CK2dQLvkMN17"
      }
    },
    {
      "cell_type": "markdown",
      "source": [
        "### Data Wrangling Code"
      ],
      "metadata": {
        "id": "e4KGg2SPMNlR"
      }
    },
    {
      "cell_type": "code",
      "source": [
        "# Write your code to make your dataset analysis ready.\n",
        "\n",
        "# List of columns to be dropped\n",
        "drop_cols = ['Total day minutes','Total eve minutes','Total night minutes',\\\n",
        "             'Total day calls','Total eve calls','Total night calls',\\\n",
        "             'Total day charge','Total eve charge','Total night charge',\\\n",
        "             'Total intl minutes','Total intl calls','Total intl charge']\n",
        "\n",
        "# Creating new columns by adding existing columns\n",
        "telecom_df['total mins'] = telecom_df['Total day minutes']+telecom_df['Total eve minutes']+telecom_df['Total night minutes']+telecom_df['Total intl minutes']\n",
        "telecom_df['total calls'] = telecom_df['Total day calls']+telecom_df['Total eve calls']+telecom_df['Total night calls']+telecom_df['Total intl calls']\n",
        "telecom_df['total charges'] = telecom_df['Total day charge']+telecom_df['Total eve charge']+telecom_df['Total night charge']+telecom_df['Total intl charge']\n",
        "\n",
        "# Dropping old columns\n",
        "telecom_df.drop(columns=drop_cols, inplace=True)\n",
        "del drop_cols\n",
        "\n",
        "# Binary encoding\n",
        "telecom_df['International plan'] = telecom_df['International plan'].apply(lambda x: 1 if x =='Yes' else 0)\n",
        "telecom_df['Voice mail plan'] = telecom_df['Voice mail plan'].apply(lambda x: 1 if x =='Yes' else 0)\n",
        "telecom_df['Churn'] = telecom_df['Churn'].apply(lambda x: 1 if x ==True else 0)\n",
        "\n",
        "# Shifting target column to end\n",
        "x = telecom_df['Churn']\n",
        "telecom_df = telecom_df.drop(columns=['Churn'])\n",
        "telecom_df['Churn'] = x\n",
        "del x"
      ],
      "metadata": {
        "id": "LtxNc6HTMJnU"
      },
      "execution_count": 23,
      "outputs": []
    },
    {
      "cell_type": "markdown",
      "source": [
        "### What all manipulations have you done and insights you found?"
      ],
      "metadata": {
        "id": "WReUVtoaMZy6"
      }
    },
    {
      "cell_type": "markdown",
      "source": [
        "First of all I created three new columns 'total mins', 'total calls', 'total charges' and dropped 9 columns like minutes,calls and charge. Then I did binary encoding for columns International plan, Voice mail plan, and Churn then Churn column has been shifted to end."
      ],
      "metadata": {
        "id": "tDVzEYJuMZw4"
      }
    },
    {
      "cell_type": "markdown",
      "source": [
        "## ***4. Data Vizualization, Storytelling & Experimenting with charts : Understand the relationships between variables***"
      ],
      "metadata": {
        "id": "xHZHWLcvMZuY"
      }
    },
    {
      "cell_type": "markdown",
      "source": [
        "## Uni-variate"
      ],
      "metadata": {
        "id": "32Mm-GJmMZrO"
      }
    },
    {
      "cell_type": "markdown",
      "source": [
        "#### Chart - 1"
      ],
      "metadata": {
        "id": "YI9NCZJUMZot"
      }
    },
    {
      "cell_type": "code",
      "source": [
        "# Chart - 1 visualization code\n",
        "plt.rcParams['figure.figsize'] = (6,6)\n",
        "telecom_df['Churn'].value_counts().plot.pie(autopct='%.01f%%')\n",
        "plt.show()"
      ],
      "metadata": {
        "colab": {
          "base_uri": "https://localhost:8080/",
          "height": 357
        },
        "id": "xj25KbsuMTxM",
        "outputId": "78229810-0d89-4a1d-8339-3869c86c416a"
      },
      "execution_count": 24,
      "outputs": [
        {
          "output_type": "display_data",
          "data": {
            "text/plain": [
              "<Figure size 432x432 with 1 Axes>"
            ],
            "image/png": "[encoded data removed]"
          },
          "metadata": {}
        }
      ]
    },
    {
      "cell_type": "markdown",
      "source": [
        "##### 1. Why did you pick the specific chart?"
      ],
      "metadata": {
        "id": "aX5qBuLOM7js"
      }
    },
    {
      "cell_type": "markdown",
      "source": [
        "To check whether target data is balanced or not."
      ],
      "metadata": {
        "id": "Hzm6k8ZdM7hU"
      }
    },
    {
      "cell_type": "markdown",
      "source": [
        "##### 2. What is/are the insight(s) found from the chart?"
      ],
      "metadata": {
        "id": "3IoaoabaM7eC"
      }
    },
    {
      "cell_type": "markdown",
      "source": [
        "85.5% of data is not churn and only 14.5% data is churn."
      ],
      "metadata": {
        "id": "ISXnOaDUM7b1"
      }
    },
    {
      "cell_type": "markdown",
      "source": [
        "##### 3. Will the gained insights help creating a positive business impact? \n",
        "Are there any insights that lead to negative growth? Justify with specific reason."
      ],
      "metadata": {
        "id": "75JYkKu9M7Zv"
      }
    },
    {
      "cell_type": "markdown",
      "source": [
        "The data is imbalanced in nature therefore it is not good for ML model so we need to make the data balanced for better accuracy."
      ],
      "metadata": {
        "id": "7p7iRxp8M7Xm"
      }
    },
    {
      "cell_type": "markdown",
      "source": [
        "#### Chart - 2"
      ],
      "metadata": {
        "id": "mmRpOXhiM7Vb"
      }
    },
    {
      "cell_type": "code",
      "source": [
        "# Chart - 2 visualization code\n",
        "plt.rcParams['figure.figsize'] = (16,5)\n",
        "telecom_df['State'].value_counts().sort_values(ascending = False).plot.bar(color='green')\n",
        "plt.title('Number of customers for each state')\n",
        "plt.xlabel('States')\n",
        "plt.ylabel('Number of customers')\n",
        "plt.show()"
      ],
      "metadata": {
        "colab": {
          "base_uri": "https://localhost:8080/",
          "height": 356
        },
        "id": "RAaHxRh4Mo0O",
        "outputId": "da6714eb-5133-45bf-ee45-441e851c4d65"
      },
      "execution_count": 25,
      "outputs": [
        {
          "output_type": "display_data",
          "data": {
            "text/plain": [
              "<Figure size 1152x360 with 1 Axes>"
            ],
            "image/png": "[encoded data removed]"
          },
          "metadata": {
            "needs_background": "light"
          }
        }
      ]
    },
    {
      "cell_type": "markdown",
      "source": [
        "##### 1. Why did you pick the specific chart?"
      ],
      "metadata": {
        "id": "iqX67YS5NWXK"
      }
    },
    {
      "cell_type": "markdown",
      "source": [
        "To check number of customers for each state."
      ],
      "metadata": {
        "id": "tQ8Ct59QNeCi"
      }
    },
    {
      "cell_type": "markdown",
      "source": [
        "##### 2. What is/are the insight(s) found from the chart?"
      ],
      "metadata": {
        "id": "EameR72VNeAm"
      }
    },
    {
      "cell_type": "markdown",
      "source": [
        "Number of customer is highest in WV that is more than 100 and for CA is least that is less than 40."
      ],
      "metadata": {
        "id": "Ac2UN0wYNd-A"
      }
    },
    {
      "cell_type": "markdown",
      "source": [
        "##### 3. Will the gained insights help creating a positive business impact? \n",
        "Are there any insights that lead to negative growth? Justify with specific reason."
      ],
      "metadata": {
        "id": "sCI3e8ylNd7V"
      }
    },
    {
      "cell_type": "markdown",
      "source": [
        "WH state has maximum number of customers therefore company should focus more on that particular area."
      ],
      "metadata": {
        "id": "yNvI3KT5Nd3v"
      }
    },
    {
      "cell_type": "markdown",
      "source": [
        "#### Chart - 3"
      ],
      "metadata": {
        "id": "COrfYQEBNd1Q"
      }
    },
    {
      "cell_type": "code",
      "source": [
        "# Chart - 3 visualization code\n",
        "telecom_df['Area code'].value_counts().plot.bar(color='green')\n",
        "plt.title('Number of customers for each Area')\n",
        "plt.xlabel('Area')\n",
        "plt.ylabel('Number of customers')\n",
        "plt.show()"
      ],
      "metadata": {
        "colab": {
          "base_uri": "https://localhost:8080/",
          "height": 359
        },
        "id": "04CnvkKnNVv1",
        "outputId": "69d24f3d-88f9-4cee-992a-c3a03490bd14"
      },
      "execution_count": 26,
      "outputs": [
        {
          "output_type": "display_data",
          "data": {
            "text/plain": [
              "<Figure size 1152x360 with 1 Axes>"
            ],
            "image/png": "[encoded data removed]"
          },
          "metadata": {
            "needs_background": "light"
          }
        }
      ]
    },
    {
      "cell_type": "markdown",
      "source": [
        "##### 1. Why did you pick the specific chart?"
      ],
      "metadata": {
        "id": "tSKq7GbUN_aB"
      }
    },
    {
      "cell_type": "markdown",
      "source": [
        "To check number of customers for each area."
      ],
      "metadata": {
        "id": "coS21kU6N_X6"
      }
    },
    {
      "cell_type": "markdown",
      "source": [
        "##### 2. What is/are the insight(s) found from the chart?"
      ],
      "metadata": {
        "id": "VX3h5mAVN_Vb"
      }
    },
    {
      "cell_type": "markdown",
      "source": [
        "Area 415 has highest number of customers more than 1600 and area 510,408 has almost equal number of customers which is about 800."
      ],
      "metadata": {
        "id": "X0R8UEnEN_S3"
      }
    },
    {
      "cell_type": "markdown",
      "source": [
        "##### 3. Will the gained insights help creating a positive business impact? \n",
        "Are there any insights that lead to negative growth? Justify with specific reason."
      ],
      "metadata": {
        "id": "MCzXorpBN_QM"
      }
    },
    {
      "cell_type": "markdown",
      "source": [
        "area 510 and 408 has equal number of customers but in area 415 the number of customers are double therefore company should focus more in that particular area."
      ],
      "metadata": {
        "id": "YKrABjY8N_MF"
      }
    },
    {
      "cell_type": "markdown",
      "source": [
        "#### Chart - 4"
      ],
      "metadata": {
        "id": "VVksgiV_N_IO"
      }
    },
    {
      "cell_type": "code",
      "source": [
        "# Chart - 4 visualization code\n",
        "plt.rcParams['figure.figsize'] = (6,6)\n",
        "telecom_df['International plan'].value_counts().plot.pie(autopct='%0.01f%%')\n",
        "plt.show()"
      ],
      "metadata": {
        "colab": {
          "base_uri": "https://localhost:8080/",
          "height": 357
        },
        "id": "PETNGrKrN5Gi",
        "outputId": "abc6e69e-97d5-4d51-b2ab-6a4f4264b80a"
      },
      "execution_count": 27,
      "outputs": [
        {
          "output_type": "display_data",
          "data": {
            "text/plain": [
              "<Figure size 432x432 with 1 Axes>"
            ],
            "image/png": "[encoded data removed]"
          },
          "metadata": {}
        }
      ]
    },
    {
      "cell_type": "markdown",
      "source": [
        "##### 1. Why did you pick the specific chart?"
      ],
      "metadata": {
        "id": "uVtXvOWYOeUG"
      }
    },
    {
      "cell_type": "markdown",
      "source": [
        "To see percentage of customers who subsribed for International plan."
      ],
      "metadata": {
        "id": "GHTjMSToOeRw"
      }
    },
    {
      "cell_type": "markdown",
      "source": [
        "##### 2. What is/are the insight(s) found from the chart?"
      ],
      "metadata": {
        "id": "cAAvtjrAOeNi"
      }
    },
    {
      "cell_type": "markdown",
      "source": [
        "Only 9.7% of the customers subscribed for International plan."
      ],
      "metadata": {
        "id": "T7TipEr6OeKh"
      }
    },
    {
      "cell_type": "markdown",
      "source": [
        "##### 3. Will the gained insights help creating a positive business impact? \n",
        "Are there any insights that lead to negative growth? Justify with specific reason."
      ],
      "metadata": {
        "id": "daIXSoYmOeHk"
      }
    },
    {
      "cell_type": "markdown",
      "source": [
        "Only 9.7% customers subscribed for international plan it means that very less people talk out of the country that is not good for the business."
      ],
      "metadata": {
        "id": "zAU04v0POeEY"
      }
    },
    {
      "cell_type": "markdown",
      "source": [
        "#### Chart - 5"
      ],
      "metadata": {
        "id": "aMCXgBRROeBv"
      }
    },
    {
      "cell_type": "code",
      "source": [
        "# Chart - 5 visualization code\n",
        "telecom_df['Voice mail plan'].value_counts().plot.pie(autopct='%0.01f%%')\n",
        "plt.show()"
      ],
      "metadata": {
        "colab": {
          "base_uri": "https://localhost:8080/",
          "height": 357
        },
        "id": "Xy2e1-JZOXp_",
        "outputId": "2fd1901b-0f19-4035-c4b6-4964ee5edd46"
      },
      "execution_count": 28,
      "outputs": [
        {
          "output_type": "display_data",
          "data": {
            "text/plain": [
              "<Figure size 432x432 with 1 Axes>"
            ],
            "image/png": "[encoded data removed]"
          },
          "metadata": {}
        }
      ]
    },
    {
      "cell_type": "markdown",
      "source": [
        "##### 1. Why did you pick the specific chart?"
      ],
      "metadata": {
        "id": "_7VIFm8vO7Pg"
      }
    },
    {
      "cell_type": "markdown",
      "source": [
        "How much part of the customers has subscribed for Voice mail plan."
      ],
      "metadata": {
        "id": "KidVNzzJO7NW"
      }
    },
    {
      "cell_type": "markdown",
      "source": [
        "##### 2. What is/are the insight(s) found from the chart?"
      ],
      "metadata": {
        "id": "SsF2WDAvO7KR"
      }
    },
    {
      "cell_type": "markdown",
      "source": [
        "27.7% of cucstomers subscribed for voice mail plan and 72.3% did not subscribed."
      ],
      "metadata": {
        "id": "TVsA2G8YO7Ek"
      }
    },
    {
      "cell_type": "markdown",
      "source": [
        "##### 3. Will the gained insights help creating a positive business impact? \n",
        "Are there any insights that lead to negative growth? Justify with specific reason."
      ],
      "metadata": {
        "id": "Yg1IPoIvO7Ca"
      }
    },
    {
      "cell_type": "markdown",
      "source": [
        "most of the people are not subscribed for voice mail price for voice mail should be less than price of the call."
      ],
      "metadata": {
        "id": "C0JefpfxO6_e"
      }
    },
    {
      "cell_type": "markdown",
      "source": [
        "#### Chart - 6"
      ],
      "metadata": {
        "id": "wiHKNqjCO69R"
      }
    },
    {
      "cell_type": "code",
      "source": [
        "# Chart - 6 visualization code\n",
        "plt.rcParams['figure.figsize'] = (16,5)\n",
        "telecom_df['Customer service calls'].value_counts().plot.bar(color='green')\n",
        "plt.title('Number of customers for each Service')\n",
        "plt.xlabel('Customer service call')\n",
        "plt.ylabel('Number of customers')\n",
        "plt.show()"
      ],
      "metadata": {
        "colab": {
          "base_uri": "https://localhost:8080/",
          "height": 346
        },
        "id": "Zcw-CK7VO2x1",
        "outputId": "323a20c3-108a-4ea9-cc63-253c4760d9e9"
      },
      "execution_count": 29,
      "outputs": [
        {
          "output_type": "display_data",
          "data": {
            "text/plain": [
              "<Figure size 1152x360 with 1 Axes>"
            ],
            "image/png": "[encoded data removed]"
          },
          "metadata": {
            "needs_background": "light"
          }
        }
      ]
    },
    {
      "cell_type": "markdown",
      "source": [
        "##### 1. Why did you pick the specific chart?"
      ],
      "metadata": {
        "id": "PCFHCFyJPU-9"
      }
    },
    {
      "cell_type": "markdown",
      "source": [
        "To see population of customers for each service"
      ],
      "metadata": {
        "id": "bFYY4L46PU8S"
      }
    },
    {
      "cell_type": "markdown",
      "source": [
        "##### 2. What is/are the insight(s) found from the chart?"
      ],
      "metadata": {
        "id": "gWr5gu4LPU5w"
      }
    },
    {
      "cell_type": "markdown",
      "source": [
        "Service 1 has highest population about 1200 then second highest is service 2 about 800, 3rd highest is service 0 that is about 750, 4th highest is service 3 that is about 400 and so on."
      ],
      "metadata": {
        "id": "sQm0d2SnPU1h"
      }
    },
    {
      "cell_type": "markdown",
      "source": [
        "##### 3. Will the gained insights help creating a positive business impact? \n",
        "Are there any insights that lead to negative growth? Justify with specific reason."
      ],
      "metadata": {
        "id": "jeFRSpFUPUzQ"
      }
    },
    {
      "cell_type": "markdown",
      "source": [
        "Service 1,2,0,3 have more than 90% of customers therefore treating them well could be more beneficial."
      ],
      "metadata": {
        "id": "a1SNZKBjPUw-"
      }
    },
    {
      "cell_type": "markdown",
      "source": [
        "#### Chart - 7"
      ],
      "metadata": {
        "id": "QuThMCp9PUuv"
      }
    },
    {
      "cell_type": "code",
      "source": [
        "# Chart - 7 visualization code\n",
        "# distribution plots for ['total mins','total calls','total charges','Account length','Number vmail messages'].\n",
        "dist_cols = ['total mins','total calls','total charges','Account length','Number vmail messages']\n",
        "for col in dist_cols:\n",
        "    sns.distplot(telecom_df[col])\n",
        "    plt.show()\n",
        "    print('\\n')"
      ],
      "metadata": {
        "colab": {
          "base_uri": "https://localhost:8080/",
          "height": 1000
        },
        "id": "bdPL-zNlPT12",
        "outputId": "a6fbc252-bbef-4f0f-af37-91ad3d0ec46f"
      },
      "execution_count": 30,
      "outputs": [
        {
          "output_type": "display_data",
          "data": {
            "text/plain": [
              "<Figure size 1152x360 with 1 Axes>"
            ],
            "image/png": "[encoded data removed]"
          },
          "metadata": {
            "needs_background": "light"
          }
        },
        {
          "output_type": "stream",
          "name": "stdout",
          "text": [
            "\n",
            "\n"
          ]
        },
        {
          "output_type": "display_data",
          "data": {
            "text/plain": [
              "<Figure size 1152x360 with 1 Axes>"
            ],
            "image/png": "[encoded data removed]"
          },
          "metadata": {
            "needs_background": "light"
          }
        },
        {
          "output_type": "stream",
          "name": "stdout",
          "text": [
            "\n",
            "\n"
          ]
        },
        {
          "output_type": "display_data",
          "data": {
            "text/plain": [
              "<Figure size 1152x360 with 1 Axes>"
            ],
            "image/png": "[encoded data removed]"
          },
          "metadata": {
            "needs_background": "light"
          }
        },
        {
          "output_type": "stream",
          "name": "stdout",
          "text": [
            "\n",
            "\n"
          ]
        },
        {
          "output_type": "display_data",
          "data": {
            "text/plain": [
              "<Figure size 1152x360 with 1 Axes>"
            ],
            "image/png": "[encoded data removed]"
          },
          "metadata": {
            "needs_background": "light"
          }
        },
        {
          "output_type": "stream",
          "name": "stdout",
          "text": [
            "\n",
            "\n"
          ]
        },
        {
          "output_type": "display_data",
          "data": {
            "text/plain": [
              "<Figure size 1152x360 with 1 Axes>"
            ],
            "image/png": "[encoded data removed]"
          },
          "metadata": {
            "needs_background": "light"
          }
        },
        {
          "output_type": "stream",
          "name": "stdout",
          "text": [
            "\n",
            "\n"
          ]
        }
      ]
    },
    {
      "cell_type": "markdown",
      "source": [
        "##### 1. Why did you pick the specific chart?"
      ],
      "metadata": {
        "id": "IaXGXun7P7XI"
      }
    },
    {
      "cell_type": "markdown",
      "source": [
        "To see the distributions of the 5 columns."
      ],
      "metadata": {
        "id": "ba8A5wlPP7Td"
      }
    },
    {
      "cell_type": "markdown",
      "source": [
        "##### 2. What is/are the insight(s) found from the chart?"
      ],
      "metadata": {
        "id": "tSTPgNEYP7QC"
      }
    },
    {
      "cell_type": "markdown",
      "source": [
        "total_min, total_calls, total_charges and account_length are approximately normally distributted except number of vmail messages."
      ],
      "metadata": {
        "id": "G_WrdNXAP7MS"
      }
    },
    {
      "cell_type": "markdown",
      "source": [
        "##### 3. Will the gained insights help creating a positive business impact? \n",
        "Are there any insights that lead to negative growth? Justify with specific reason."
      ],
      "metadata": {
        "id": "NW9btLabP7KL"
      }
    },
    {
      "cell_type": "markdown",
      "source": [
        "4 out of 5 columns normally distributed which is  very benificial in most of the ML model fitting."
      ],
      "metadata": {
        "id": "-D-MW_z1P7H1"
      }
    },
    {
      "cell_type": "markdown",
      "source": [
        "## Bi-variate"
      ],
      "metadata": {
        "id": "AafF0AMGP7Ey"
      }
    },
    {
      "cell_type": "markdown",
      "source": [
        "#### Chart 8"
      ],
      "metadata": {
        "id": "W0bB6-HJQP3U"
      }
    },
    {
      "cell_type": "code",
      "source": [
        "# Chart - 8 visualization code\n",
        "telecom_df.groupby(['State','Churn'])['Churn'].count().sort_values().unstack().plot.bar(color=['green','red'])\n",
        "plt.title('Number of churn and non churn for each Service')\n",
        "plt.xlabel('State')\n",
        "plt.ylabel('Number of customers')\n",
        "plt.show()"
      ],
      "metadata": {
        "colab": {
          "base_uri": "https://localhost:8080/",
          "height": 356
        },
        "id": "ATcqXlZOP0lx",
        "outputId": "57527b46-544a-4599-9f17-84a194c73925"
      },
      "execution_count": 31,
      "outputs": [
        {
          "output_type": "display_data",
          "data": {
            "text/plain": [
              "<Figure size 1152x360 with 1 Axes>"
            ],
            "image/png": "[encoded data removed]"
          },
          "metadata": {
            "needs_background": "light"
          }
        }
      ]
    },
    {
      "cell_type": "markdown",
      "source": [
        "##### 1. Why did you pick the specific chart?"
      ],
      "metadata": {
        "id": "ewJ9j8qoQXQX"
      }
    },
    {
      "cell_type": "markdown",
      "source": [
        "To see number of churn/non churn for each state."
      ],
      "metadata": {
        "id": "s_Ayp6DNQXOG"
      }
    },
    {
      "cell_type": "markdown",
      "source": [
        "##### 2. What is/are the insight(s) found from the chart?"
      ],
      "metadata": {
        "id": "zMVQaJ5yQXL8"
      }
    },
    {
      "cell_type": "markdown",
      "source": [
        "Number of churn of each state is not greater than 25."
      ],
      "metadata": {
        "id": "W2WNQJskQXJs"
      }
    },
    {
      "cell_type": "markdown",
      "source": [
        "##### 3. Will the gained insights help creating a positive business impact? \n",
        "Are there any insights that lead to negative growth? Justify with specific reason."
      ],
      "metadata": {
        "id": "0IIiweYcQXHN"
      }
    },
    {
      "cell_type": "markdown",
      "source": [
        "No."
      ],
      "metadata": {
        "id": "U-ivoipYQXDo"
      }
    },
    {
      "cell_type": "markdown",
      "source": [
        "#### Chart - 9"
      ],
      "metadata": {
        "id": "viMahMHMQW_2"
      }
    },
    {
      "cell_type": "code",
      "source": [
        "# Chart - 9 visualization code\n",
        "telecom_df.groupby(['Area code','Churn'])['Churn'].count().sort_values().\\\n",
        "unstack().plot.bar(color=['red','black'])\n",
        "plt.title('Number of customers for each Area')\n",
        "plt.xlabel('Area code')\n",
        "plt.ylabel('Number of customers')\n",
        "plt.show()"
      ],
      "metadata": {
        "colab": {
          "base_uri": "https://localhost:8080/",
          "height": 359
        },
        "id": "GKkKzzxjQy0L",
        "outputId": "f3fa3ff9-3caa-4a74-babe-18c144c2f18d"
      },
      "execution_count": 32,
      "outputs": [
        {
          "output_type": "display_data",
          "data": {
            "text/plain": [
              "<Figure size 1152x360 with 1 Axes>"
            ],
            "image/png": "[encoded data removed]"
          },
          "metadata": {
            "needs_background": "light"
          }
        }
      ]
    },
    {
      "cell_type": "markdown",
      "source": [
        "##### 1. Why did you pick the specific chart?"
      ],
      "metadata": {
        "id": "MJMZXtB2QW8n"
      }
    },
    {
      "cell_type": "markdown",
      "source": [
        "To see churn/non churn for each area."
      ],
      "metadata": {
        "id": "NngxLVH4QxTl"
      }
    },
    {
      "cell_type": "markdown",
      "source": [
        "##### 2. What is/are the insight(s) found from the chart?"
      ],
      "metadata": {
        "id": "ykO31Ap7QxRX"
      }
    },
    {
      "cell_type": "markdown",
      "source": [
        "Area 408 has 122 churn and 726 non churn, 510 has 125 churn and 715 non churn, area 415 has the highest churn that is 236 churn and 1419 non churn."
      ],
      "metadata": {
        "id": "6kR4ewdkQxOr"
      }
    },
    {
      "cell_type": "markdown",
      "source": [
        "##### 3. Will the gained insights help creating a positive business impact? \n",
        "Are there any insights that lead to negative growth? Justify with specific reason."
      ],
      "metadata": {
        "id": "iw-NMpu7QxMd"
      }
    },
    {
      "cell_type": "markdown",
      "source": [
        "Area 415 has highest churn and also number of customer is highest so company should care more about this area."
      ],
      "metadata": {
        "id": "hCoBhjPjQxKF"
      }
    },
    {
      "cell_type": "markdown",
      "source": [
        "#### Chart - 10"
      ],
      "metadata": {
        "id": "DQeIGmWPQxHo"
      }
    },
    {
      "cell_type": "code",
      "source": [
        "# Chart - 10 visualization code\n",
        "plt.rcParams['figure.figsize'] = (8,4)\n",
        "telecom_df.groupby(['Churn'])['total mins'].mean().plot.bar(color='green')\n",
        "plt.title('Churn vs Average minutes')\n",
        "plt.xlabel('Churn')\n",
        "plt.ylabel('Minutes')\n",
        "plt.show()"
      ],
      "metadata": {
        "colab": {
          "base_uri": "https://localhost:8080/",
          "height": 292
        },
        "id": "Fuibly16ROmQ",
        "outputId": "e1b0e811-3a44-4b16-dba3-201ec85afc1b"
      },
      "execution_count": 33,
      "outputs": [
        {
          "output_type": "display_data",
          "data": {
            "text/plain": [
              "<Figure size 576x288 with 1 Axes>"
            ],
            "image/png": "[encoded data removed]"
          },
          "metadata": {
            "needs_background": "light"
          }
        }
      ]
    },
    {
      "cell_type": "markdown",
      "source": [
        "##### 1. Why did you pick the specific chart?"
      ],
      "metadata": {
        "id": "d-tZBKfFQw2k"
      }
    },
    {
      "cell_type": "markdown",
      "source": [
        "To see average minutes for churn."
      ],
      "metadata": {
        "id": "-SkyQrGMRUxB"
      }
    },
    {
      "cell_type": "markdown",
      "source": [
        "##### 2. What is/are the insight(s) found from the chart?"
      ],
      "metadata": {
        "id": "VLuSJ-hLRUuw"
      }
    },
    {
      "cell_type": "markdown",
      "source": [
        "Average minutes for churn is higher than non churn."
      ],
      "metadata": {
        "id": "zM3FTUSLRUsK"
      }
    },
    {
      "cell_type": "markdown",
      "source": [
        "##### 3. Will the gained insights help creating a positive business impact? \n",
        "Are there any insights that lead to negative growth? Justify with specific reason."
      ],
      "metadata": {
        "id": "HOVMED9YRUpy"
      }
    },
    {
      "cell_type": "markdown",
      "source": [
        "mean minutes for predicted churn is higher than non churn therefore people with more duration are more churn."
      ],
      "metadata": {
        "id": "y7it5tZnRUnZ"
      }
    },
    {
      "cell_type": "markdown",
      "source": [
        "#### Chart - 11"
      ],
      "metadata": {
        "id": "AVYfl5p3RUkr"
      }
    },
    {
      "cell_type": "code",
      "source": [
        "# Chart - 11 visualization code\n",
        "telecom_df.groupby(['Churn'])['total calls'].mean().plot.bar(color ='green')\n",
        "plt.title('Churn vs Average calls')\n",
        "plt.xlabel('Churn')\n",
        "plt.ylabel('Calls')\n",
        "plt.show()"
      ],
      "metadata": {
        "colab": {
          "base_uri": "https://localhost:8080/",
          "height": 292
        },
        "id": "s7OGVrP3Rxvl",
        "outputId": "fa997857-0200-4789-a999-4a6bbf9a94d3"
      },
      "execution_count": 34,
      "outputs": [
        {
          "output_type": "display_data",
          "data": {
            "text/plain": [
              "<Figure size 576x288 with 1 Axes>"
            ],
            "image/png": "[encoded data removed]"
          },
          "metadata": {
            "needs_background": "light"
          }
        }
      ]
    },
    {
      "cell_type": "markdown",
      "source": [
        "##### 1. Why did you pick the specific chart?"
      ],
      "metadata": {
        "id": "rA76Gu7CQw0f"
      }
    },
    {
      "cell_type": "markdown",
      "source": [
        "To see number of churn/non churn for mean number of call."
      ],
      "metadata": {
        "id": "csX0G5QiQwyK"
      }
    },
    {
      "cell_type": "markdown",
      "source": [
        "##### 2. What is/are the insight(s) found from the chart?"
      ],
      "metadata": {
        "id": "pjnsR28FQwvw"
      }
    },
    {
      "cell_type": "markdown",
      "source": [
        "mean number of calls for churn and non churn is almost equal."
      ],
      "metadata": {
        "id": "OF7UpOGqQwtj"
      }
    },
    {
      "cell_type": "markdown",
      "source": [
        "##### 3. Will the gained insights help creating a positive business impact? \n",
        "Are there any insights that lead to negative growth? Justify with specific reason."
      ],
      "metadata": {
        "id": "a0tvXA6zQwrR"
      }
    },
    {
      "cell_type": "markdown",
      "source": [
        "No."
      ],
      "metadata": {
        "id": "N3vXJU1wQwTV"
      }
    },
    {
      "cell_type": "markdown",
      "source": [
        "#### Chart - 12"
      ],
      "metadata": {
        "id": "h9Zw9se4QwPg"
      }
    },
    {
      "cell_type": "code",
      "source": [
        "# Chart - 12 visualization code\n",
        "telecom_df.groupby(['Churn'])['total charges'].mean().plot.bar(color ='green')\n",
        "plt.title('Churn vs Average charges')\n",
        "plt.xlabel('Churn')\n",
        "plt.ylabel('Charges')\n",
        "plt.show()"
      ],
      "metadata": {
        "colab": {
          "base_uri": "https://localhost:8080/",
          "height": 292
        },
        "id": "--J1mRZqSNVZ",
        "outputId": "706d55e7-7b0c-4403-d438-c4944d9978f5"
      },
      "execution_count": 35,
      "outputs": [
        {
          "output_type": "display_data",
          "data": {
            "text/plain": [
              "<Figure size 576x288 with 1 Axes>"
            ],
            "image/png": "[encoded data removed]"
          },
          "metadata": {
            "needs_background": "light"
          }
        }
      ]
    },
    {
      "cell_type": "markdown",
      "source": [
        "##### 1. Why did you pick the specific chart?"
      ],
      "metadata": {
        "id": "3024GSSyQwLy"
      }
    },
    {
      "cell_type": "markdown",
      "source": [
        "To see effects of charges on churn/non churn"
      ],
      "metadata": {
        "id": "B6ypbG5CQwJl"
      }
    },
    {
      "cell_type": "markdown",
      "source": [
        "##### 2. What is/are the insight(s) found from the chart?"
      ],
      "metadata": {
        "id": "-3UL8OxeQwHZ"
      }
    },
    {
      "cell_type": "markdown",
      "source": [
        "Charges for churn is approximately 70 and for non churn is less than 60."
      ],
      "metadata": {
        "id": "UgDyfmIVQwE3"
      }
    },
    {
      "cell_type": "markdown",
      "source": [
        "##### 3. Will the gained insights help creating a positive business impact? \n",
        "Are there any insights that lead to negative growth? Justify with specific reason."
      ],
      "metadata": {
        "id": "e8Bt_1HUSfxO"
      }
    },
    {
      "cell_type": "markdown",
      "source": [
        "People with high charges are more churn."
      ],
      "metadata": {
        "id": "CT1ywJHqSfus"
      }
    },
    {
      "cell_type": "markdown",
      "source": [
        "#### Chart - 13"
      ],
      "metadata": {
        "id": "bXf0_UriSfnw"
      }
    },
    {
      "cell_type": "code",
      "source": [
        "# Chart - 13 visualization code\n",
        "telecom_df.groupby(['Churn'])['Number vmail messages'].mean().plot.bar(color ='green')\n",
        "plt.title('Churn vs Average voice message')\n",
        "plt.xlabel('Churn')\n",
        "plt.ylabel('Average voice message')\n",
        "plt.show()"
      ],
      "metadata": {
        "colab": {
          "base_uri": "https://localhost:8080/",
          "height": 292
        },
        "id": "Q-qjzZD9Snhb",
        "outputId": "bc16367a-8475-43df-b55c-6952392e540c"
      },
      "execution_count": 36,
      "outputs": [
        {
          "output_type": "display_data",
          "data": {
            "text/plain": [
              "<Figure size 576x288 with 1 Axes>"
            ],
            "image/png": "[encoded data removed]"
          },
          "metadata": {
            "needs_background": "light"
          }
        }
      ]
    },
    {
      "cell_type": "markdown",
      "source": [
        "##### 1. Why did you pick the specific chart?"
      ],
      "metadata": {
        "id": "HGEo4bfhSflV"
      }
    },
    {
      "cell_type": "markdown",
      "source": [
        "To see number of voice mail and for churn/non churn."
      ],
      "metadata": {
        "id": "w2EqRiSgSfhZ"
      }
    },
    {
      "cell_type": "markdown",
      "source": [
        "##### 2. What is/are the insight(s) found from the chart?"
      ],
      "metadata": {
        "id": "q9h2MYEhSfcs"
      }
    },
    {
      "cell_type": "markdown",
      "source": [
        "average number of message for churn is less than 6 and for non churn is more than 8."
      ],
      "metadata": {
        "id": "pmR1iukGSfaB"
      }
    },
    {
      "cell_type": "markdown",
      "source": [
        "##### 3. Will the gained insights help creating a positive business impact? \n",
        "Are there any insights that lead to negative growth? Justify with specific reason."
      ],
      "metadata": {
        "id": "NKAmsU0hSfXm"
      }
    },
    {
      "cell_type": "markdown",
      "source": [
        "People with high number of voice message are less churn."
      ],
      "metadata": {
        "id": "Pz_oogP3SfVF"
      }
    },
    {
      "cell_type": "markdown",
      "source": [
        "#### Chart - 14 - Correlation Heatmap"
      ],
      "metadata": {
        "id": "WjHQWXSmSfSt"
      }
    },
    {
      "cell_type": "code",
      "source": [
        "# Correlation Heatmap visualization code\n",
        "corr = telecom_df.corr()\n",
        "plt.rcParams['figure.figsize'] = (16,8)\n",
        "sns.heatmap(corr,annot=True,cmap='coolwarm')\n",
        "plt.show()"
      ],
      "metadata": {
        "colab": {
          "base_uri": "https://localhost:8080/",
          "height": 601
        },
        "id": "hPGqHxt4TCp4",
        "outputId": "5cf093f4-9d2e-4535-ad1b-bda1aa2ab9da"
      },
      "execution_count": 37,
      "outputs": [
        {
          "output_type": "display_data",
          "data": {
            "text/plain": [
              "<Figure size 1152x576 with 2 Axes>"
            ],
            "image/png": "[encoded data removed]"
          },
          "metadata": {
            "needs_background": "light"
          }
        }
      ]
    },
    {
      "cell_type": "markdown",
      "source": [
        "##### 1. Why did you pick the specific chart?"
      ],
      "metadata": {
        "id": "95npj9-MSfQK"
      }
    },
    {
      "cell_type": "markdown",
      "source": [
        "To see correlation between the columns."
      ],
      "metadata": {
        "id": "Tp9pLl5LSfNj"
      }
    },
    {
      "cell_type": "markdown",
      "source": [
        "##### 2. What is/are the insight(s) found from the chart?"
      ],
      "metadata": {
        "id": "pvW85kNMTSFv"
      }
    },
    {
      "cell_type": "markdown",
      "source": [
        "Number vmail message and voice mail plan has .96 correlation in feature engineering we can replace these column with voice_message_rate, total mins and total charges has .89 correlation in feature engineering it can also be replaced,  churn has  .26 with International plan, .21 with customers service calls,.20 with total mins and .23 with total charges. rest of the columns has very low correlations."
      ],
      "metadata": {
        "id": "2oD2bqBFTSDT"
      }
    },
    {
      "cell_type": "markdown",
      "source": [
        "#### Chart - 15 - Pair Plot "
      ],
      "metadata": {
        "id": "hUuTcaMbTSAz"
      }
    },
    {
      "cell_type": "code",
      "source": [
        "# Pair Plot visualization code\n",
        "pair_cols = ['total mins','total calls','total charges']\n",
        "sns.pairplot(telecom_df[pair_cols])\n",
        "plt.show()"
      ],
      "metadata": {
        "colab": {
          "base_uri": "https://localhost:8080/",
          "height": 550
        },
        "id": "76sPO9XATaS8",
        "outputId": "e325b099-0b8a-4c08-b3ae-f6f401b0cde6"
      },
      "execution_count": 38,
      "outputs": [
        {
          "output_type": "display_data",
          "data": {
            "text/plain": [
              "<Figure size 540x540 with 12 Axes>"
            ],
            "image/png": "[encoded data removed]"
          },
          "metadata": {
            "needs_background": "light"
          }
        }
      ]
    },
    {
      "cell_type": "markdown",
      "source": [
        "##### 1. Why did you pick the specific chart?"
      ],
      "metadata": {
        "id": "czFRdR4MTR-T"
      }
    },
    {
      "cell_type": "markdown",
      "source": [
        "To the relationship between the data are linear or non linear."
      ],
      "metadata": {
        "id": "vez5eEk-TR7R"
      }
    },
    {
      "cell_type": "markdown",
      "source": [
        "##### 2. What is/are the insight(s) found from the chart?"
      ],
      "metadata": {
        "id": "hJ3SGy6WTR3M"
      }
    },
    {
      "cell_type": "markdown",
      "source": [
        "Only total minutes and total charges are linearly related rest of them do not have linear relationship."
      ],
      "metadata": {
        "id": "jZJrJm5FTRyw"
      }
    },
    {
      "cell_type": "markdown",
      "source": [
        "## **5. Solution to Business Objective**"
      ],
      "metadata": {
        "id": "eDdO-daHTRva"
      }
    },
    {
      "cell_type": "markdown",
      "source": [
        "#### What do you suggest the client to achieve Business Objective ? \n",
        "Explain Briefly."
      ],
      "metadata": {
        "id": "GKxOfcQ7TRsi"
      }
    },
    {
      "cell_type": "markdown",
      "source": [
        "I observed that more number of customers are predicted as churn when the call duration and call charges is higher but in case of voice mail plan customers are less churn therefore we can make the charge for voice mail plan lower than call charge so that people who are doing long call can switch to voice mail plan because people who are using more voice mail plan are less churn."
      ],
      "metadata": {
        "id": "6HoGN5VtT3Lc"
      }
    },
    {
      "cell_type": "markdown",
      "source": [
        "# **Conclusion**"
      ],
      "metadata": {
        "id": "E3Kzo-62T3I1"
      }
    },
    {
      "cell_type": "markdown",
      "source": [
        "Total 14.5% of the customers are predicted as churn<br>\n",
        "State with highest number of customer is WV.<br>\n",
        "Area code 415 has highest number of customers more than 1600.<br>\n",
        "Only 9.7% customers are subscribed for international plan.<br>\n",
        "27.7% of the customers subcribed for voice mail plan.<br>\n",
        "Distributions for call duration, number of calls, call charges and account length is normal.<br>\n",
        "Number of churn is higher where call duration is high.<br>\n",
        "More number of call has higher number of churn.<br>\n",
        "Higher price has higher number of churn.<br>\n",
        "People with less number of voice message are less number of churn.<br>\n",
        "total charge and total minute is linearly correlated with each other.<br><br>\n",
        "\n",
        "\n",
        "The dataset has 3333 rows and 20 columns without any missing value and duplicate row.<br>\n",
        "Total number of churn is 483<br>\n",
        "State with highest churn are NJ and TX and highest number of churn is 18.<br>\n",
        "Area code 415 has highest number of churn that is 236<br>\n",
        "Number of churn with international plan is 137 and without plan is 346<br>\n",
        "Number of churn with voice mail plan is 80 and without plan is 403<br>\n",
        "Total number of voice mail message is : 26994<br>\n",
        "Total call duration at day is : 599190.4 min<br>\n",
        "Total call duration at evening is : 669867.5 min<br>\n",
        "Total call duration at night is : 669506.5 min<br><br>\n",
        "\n",
        "Total number of calls at day is : 334752<br>\n",
        "Total number of calls at evening is : 333681<br>\n",
        "Total number of calls at night is : 333659<br><br>\n",
        "\n",
        "Total charges at day is : 101864.17<br>\n",
        "Total charges at evening is : 56939.44<br>\n",
        "Total charges at night is : 30128.07<br><br>\n",
        "\n",
        "Total international call duration is : 34120.9 minutes<br>\n",
        "Total international number of call is : 14930<br>\n",
        "Total international call charge is : 9214.35"
      ],
      "metadata": {
        "id": "FCR45yhdT3GJ"
      }
    },
    {
      "cell_type": "markdown",
      "source": [
        "### ***Hurrah! You have successfully completed your EDA Capstone Project !!!***"
      ],
      "metadata": {
        "id": "9hzOy47jT3DN"
      }
    }
  ]
}